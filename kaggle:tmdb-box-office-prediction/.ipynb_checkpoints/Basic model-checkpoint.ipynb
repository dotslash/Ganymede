{
 "cells": [
  {
   "cell_type": "code",
   "execution_count": 2,
   "metadata": {},
   "outputs": [],
   "source": [
    "# Imports\n",
    "import pandas\n",
    "import json"
   ]
  },
  {
   "cell_type": "markdown",
   "metadata": {},
   "source": [
    "# Prepare data"
   ]
  },
  {
   "cell_type": "code",
   "execution_count": 63,
   "metadata": {},
   "outputs": [],
   "source": [
    "def GetReleaseDate(orig):\n",
    "    if pandas.isna(orig):\n",
    "        return 1900\n",
    "    yr = int(orig.split('/')[2])\n",
    "    if yr <= 19:\n",
    "        return 2000 + yr\n",
    "    else:\n",
    "        return 1900 + yr\n",
    "\n",
    "def GetReleaseMonth(orig):\n",
    "    if pandas.isna(orig):\n",
    "        return 0\n",
    "    return int(orig.split('/')[1])\n",
    "\n",
    "import ast\n",
    "def get_dictionary(s):\n",
    "    try:\n",
    "        d = ast.literal_eval(s)\n",
    "    except ValueError as err:\n",
    "        if not pandas.isna(s):\n",
    "            print(\"get_dictionary error: {}\".format(err))\n",
    "        d = {}    \n",
    "    return d\n",
    "\n",
    "def GetCountryCodes(raw):\n",
    "    return [x.get('iso_3166_1', 'NA').lower() for x in get_dictionary(raw)]\n",
    "\n",
    "def GetGenres(raw):\n",
    "    return [x.get('name', 'NA').lower() for x in get_dictionary(raw)]\n",
    "\n",
    "\n",
    "\n",
    "class TransformerState:\n",
    "    def __init__(self):\n",
    "        pass\n",
    "    \n",
    "def TransformAndFix(train, test):\n",
    "    t_production_countries = train['production_countries'].apply(GetCountryCodes)\n",
    "    t_genres = train['genres'].apply(GetGenres)    \n",
    "    ret = TransformerState()\n",
    "    ret.genres = pandas.Series(t_genres.sum()).value_counts()\n",
    "    ret.countries = pandas.Series(t_production_countries.sum()).value_counts()\n",
    "    ret.genres = ret.genres[ret.genres > 50]\n",
    "    ret.countries = ret.countries[ret.countries > 10]\n",
    "    \n",
    "    for data in [train, test]:\n",
    "        data['t_release_yr'] = data['release_date'].apply(GetReleaseDate)\n",
    "        data['t_release_mo'] = data['release_date'].apply(GetReleaseMonth)\n",
    "        for g in ret.genres.keys():\n",
    "            data['t_genre_{}'.format(g)] = \\\n",
    "                data['genres'].apply(lambda x: g in GetGenres(x))\n",
    "        for g in ret.countries.keys():\n",
    "            data['t_production_country_{}'.format(g)] = \\\n",
    "                data['production_countries'].apply(lambda x: g in GetCountryCodes(x))\n",
    "    return ret"
   ]
  },
  {
   "cell_type": "code",
   "execution_count": 64,
   "metadata": {
    "scrolled": true
   },
   "outputs": [],
   "source": [
    "train_orig = pandas.read_csv('train.csv')\n",
    "test_orig = pandas.read_csv('test.csv')\n",
    "\n",
    "train = train_orig.copy()\n",
    "test = test.copy()"
   ]
  },
  {
   "cell_type": "code",
   "execution_count": 65,
   "metadata": {},
   "outputs": [],
   "source": [
    "transformer_state = TransformAndFix(train, test)"
   ]
  },
  {
   "cell_type": "code",
   "execution_count": 82,
   "metadata": {},
   "outputs": [],
   "source": [
    "to_remove = {'id', 'belongs_to_collection', 'genres', 'homepage',\n",
    "             'imdb_id', 'original_language', 'original_title', 'overview',\n",
    "             'production_companies', 'production_countries', 'release_date', \n",
    "             'runtime', 'spoken_languages', 'status', 'tagline', 'title', \n",
    "             'Keywords', 'cast', 'crew', 'poster_path', 'revenue'}\n",
    "useful_columns = [c for c in train.columns if c not in to_remove ]"
   ]
  },
  {
   "cell_type": "code",
   "execution_count": 83,
   "metadata": {},
   "outputs": [
    {
     "data": {
      "text/html": [
       "<div>\n",
       "<style scoped>\n",
       "    .dataframe tbody tr th:only-of-type {\n",
       "        vertical-align: middle;\n",
       "    }\n",
       "\n",
       "    .dataframe tbody tr th {\n",
       "        vertical-align: top;\n",
       "    }\n",
       "\n",
       "    .dataframe thead th {\n",
       "        text-align: right;\n",
       "    }\n",
       "</style>\n",
       "<table border=\"1\" class=\"dataframe\">\n",
       "  <thead>\n",
       "    <tr style=\"text-align: right;\">\n",
       "      <th></th>\n",
       "      <th>budget</th>\n",
       "      <th>popularity</th>\n",
       "      <th>t_release_yr</th>\n",
       "      <th>t_release_mo</th>\n",
       "      <th>t_genre_drama</th>\n",
       "      <th>t_genre_comedy</th>\n",
       "      <th>t_genre_thriller</th>\n",
       "      <th>t_genre_action</th>\n",
       "      <th>t_genre_romance</th>\n",
       "      <th>t_genre_crime</th>\n",
       "      <th>...</th>\n",
       "      <th>t_production_country_be</th>\n",
       "      <th>t_production_country_ie</th>\n",
       "      <th>t_production_country_kr</th>\n",
       "      <th>t_production_country_mx</th>\n",
       "      <th>t_production_country_se</th>\n",
       "      <th>t_production_country_nz</th>\n",
       "      <th>t_production_country_nl</th>\n",
       "      <th>t_production_country_cz</th>\n",
       "      <th>t_production_country_dk</th>\n",
       "      <th>t_production_country_br</th>\n",
       "    </tr>\n",
       "  </thead>\n",
       "  <tbody>\n",
       "    <tr>\n",
       "      <th>0</th>\n",
       "      <td>14000000</td>\n",
       "      <td>6.575393</td>\n",
       "      <td>2015</td>\n",
       "      <td>20</td>\n",
       "      <td>False</td>\n",
       "      <td>True</td>\n",
       "      <td>False</td>\n",
       "      <td>False</td>\n",
       "      <td>False</td>\n",
       "      <td>False</td>\n",
       "      <td>...</td>\n",
       "      <td>False</td>\n",
       "      <td>False</td>\n",
       "      <td>False</td>\n",
       "      <td>False</td>\n",
       "      <td>False</td>\n",
       "      <td>False</td>\n",
       "      <td>False</td>\n",
       "      <td>False</td>\n",
       "      <td>False</td>\n",
       "      <td>False</td>\n",
       "    </tr>\n",
       "    <tr>\n",
       "      <th>1</th>\n",
       "      <td>40000000</td>\n",
       "      <td>8.248895</td>\n",
       "      <td>2004</td>\n",
       "      <td>6</td>\n",
       "      <td>True</td>\n",
       "      <td>True</td>\n",
       "      <td>False</td>\n",
       "      <td>False</td>\n",
       "      <td>True</td>\n",
       "      <td>False</td>\n",
       "      <td>...</td>\n",
       "      <td>False</td>\n",
       "      <td>False</td>\n",
       "      <td>False</td>\n",
       "      <td>False</td>\n",
       "      <td>False</td>\n",
       "      <td>False</td>\n",
       "      <td>False</td>\n",
       "      <td>False</td>\n",
       "      <td>False</td>\n",
       "      <td>False</td>\n",
       "    </tr>\n",
       "    <tr>\n",
       "      <th>2</th>\n",
       "      <td>3300000</td>\n",
       "      <td>64.299990</td>\n",
       "      <td>2014</td>\n",
       "      <td>10</td>\n",
       "      <td>True</td>\n",
       "      <td>False</td>\n",
       "      <td>False</td>\n",
       "      <td>False</td>\n",
       "      <td>False</td>\n",
       "      <td>False</td>\n",
       "      <td>...</td>\n",
       "      <td>False</td>\n",
       "      <td>False</td>\n",
       "      <td>False</td>\n",
       "      <td>False</td>\n",
       "      <td>False</td>\n",
       "      <td>False</td>\n",
       "      <td>False</td>\n",
       "      <td>False</td>\n",
       "      <td>False</td>\n",
       "      <td>False</td>\n",
       "    </tr>\n",
       "    <tr>\n",
       "      <th>3</th>\n",
       "      <td>1200000</td>\n",
       "      <td>3.174936</td>\n",
       "      <td>2012</td>\n",
       "      <td>9</td>\n",
       "      <td>True</td>\n",
       "      <td>False</td>\n",
       "      <td>True</td>\n",
       "      <td>False</td>\n",
       "      <td>False</td>\n",
       "      <td>False</td>\n",
       "      <td>...</td>\n",
       "      <td>False</td>\n",
       "      <td>False</td>\n",
       "      <td>False</td>\n",
       "      <td>False</td>\n",
       "      <td>False</td>\n",
       "      <td>False</td>\n",
       "      <td>False</td>\n",
       "      <td>False</td>\n",
       "      <td>False</td>\n",
       "      <td>False</td>\n",
       "    </tr>\n",
       "    <tr>\n",
       "      <th>4</th>\n",
       "      <td>0</td>\n",
       "      <td>1.148070</td>\n",
       "      <td>2009</td>\n",
       "      <td>5</td>\n",
       "      <td>False</td>\n",
       "      <td>False</td>\n",
       "      <td>True</td>\n",
       "      <td>True</td>\n",
       "      <td>False</td>\n",
       "      <td>False</td>\n",
       "      <td>...</td>\n",
       "      <td>False</td>\n",
       "      <td>False</td>\n",
       "      <td>True</td>\n",
       "      <td>False</td>\n",
       "      <td>False</td>\n",
       "      <td>False</td>\n",
       "      <td>False</td>\n",
       "      <td>False</td>\n",
       "      <td>False</td>\n",
       "      <td>False</td>\n",
       "    </tr>\n",
       "  </tbody>\n",
       "</table>\n",
       "<p>5 rows × 44 columns</p>\n",
       "</div>"
      ],
      "text/plain": [
       "     budget  popularity  t_release_yr  t_release_mo  t_genre_drama  \\\n",
       "0  14000000    6.575393          2015            20          False   \n",
       "1  40000000    8.248895          2004             6           True   \n",
       "2   3300000   64.299990          2014            10           True   \n",
       "3   1200000    3.174936          2012             9           True   \n",
       "4         0    1.148070          2009             5          False   \n",
       "\n",
       "   t_genre_comedy  t_genre_thriller  t_genre_action  t_genre_romance  \\\n",
       "0            True             False           False            False   \n",
       "1            True             False           False             True   \n",
       "2           False             False           False            False   \n",
       "3           False              True           False            False   \n",
       "4           False              True            True            False   \n",
       "\n",
       "   t_genre_crime  ...  t_production_country_be  t_production_country_ie  \\\n",
       "0          False  ...                    False                    False   \n",
       "1          False  ...                    False                    False   \n",
       "2          False  ...                    False                    False   \n",
       "3          False  ...                    False                    False   \n",
       "4          False  ...                    False                    False   \n",
       "\n",
       "   t_production_country_kr  t_production_country_mx  t_production_country_se  \\\n",
       "0                    False                    False                    False   \n",
       "1                    False                    False                    False   \n",
       "2                    False                    False                    False   \n",
       "3                    False                    False                    False   \n",
       "4                     True                    False                    False   \n",
       "\n",
       "   t_production_country_nz  t_production_country_nl  t_production_country_cz  \\\n",
       "0                    False                    False                    False   \n",
       "1                    False                    False                    False   \n",
       "2                    False                    False                    False   \n",
       "3                    False                    False                    False   \n",
       "4                    False                    False                    False   \n",
       "\n",
       "   t_production_country_dk  t_production_country_br  \n",
       "0                    False                    False  \n",
       "1                    False                    False  \n",
       "2                    False                    False  \n",
       "3                    False                    False  \n",
       "4                    False                    False  \n",
       "\n",
       "[5 rows x 44 columns]"
      ]
     },
     "execution_count": 83,
     "metadata": {},
     "output_type": "execute_result"
    }
   ],
   "source": [
    "train[useful_columns].head()"
   ]
  },
  {
   "cell_type": "code",
   "execution_count": 84,
   "metadata": {},
   "outputs": [
    {
     "data": {
      "text/html": [
       "<div>\n",
       "<style scoped>\n",
       "    .dataframe tbody tr th:only-of-type {\n",
       "        vertical-align: middle;\n",
       "    }\n",
       "\n",
       "    .dataframe tbody tr th {\n",
       "        vertical-align: top;\n",
       "    }\n",
       "\n",
       "    .dataframe thead th {\n",
       "        text-align: right;\n",
       "    }\n",
       "</style>\n",
       "<table border=\"1\" class=\"dataframe\">\n",
       "  <thead>\n",
       "    <tr style=\"text-align: right;\">\n",
       "      <th></th>\n",
       "      <th>budget</th>\n",
       "      <th>popularity</th>\n",
       "      <th>t_release_yr</th>\n",
       "      <th>t_release_mo</th>\n",
       "      <th>t_genre_drama</th>\n",
       "      <th>t_genre_comedy</th>\n",
       "      <th>t_genre_thriller</th>\n",
       "      <th>t_genre_action</th>\n",
       "      <th>t_genre_romance</th>\n",
       "      <th>t_genre_crime</th>\n",
       "      <th>...</th>\n",
       "      <th>t_production_country_be</th>\n",
       "      <th>t_production_country_ie</th>\n",
       "      <th>t_production_country_kr</th>\n",
       "      <th>t_production_country_mx</th>\n",
       "      <th>t_production_country_se</th>\n",
       "      <th>t_production_country_nz</th>\n",
       "      <th>t_production_country_nl</th>\n",
       "      <th>t_production_country_cz</th>\n",
       "      <th>t_production_country_dk</th>\n",
       "      <th>t_production_country_br</th>\n",
       "    </tr>\n",
       "  </thead>\n",
       "  <tbody>\n",
       "    <tr>\n",
       "      <th>0</th>\n",
       "      <td>0</td>\n",
       "      <td>3.851534</td>\n",
       "      <td>2007</td>\n",
       "      <td>14</td>\n",
       "      <td>False</td>\n",
       "      <td>False</td>\n",
       "      <td>False</td>\n",
       "      <td>False</td>\n",
       "      <td>False</td>\n",
       "      <td>False</td>\n",
       "      <td>...</td>\n",
       "      <td>False</td>\n",
       "      <td>False</td>\n",
       "      <td>False</td>\n",
       "      <td>False</td>\n",
       "      <td>False</td>\n",
       "      <td>False</td>\n",
       "      <td>False</td>\n",
       "      <td>False</td>\n",
       "      <td>False</td>\n",
       "      <td>False</td>\n",
       "    </tr>\n",
       "    <tr>\n",
       "      <th>1</th>\n",
       "      <td>88000</td>\n",
       "      <td>3.559789</td>\n",
       "      <td>1958</td>\n",
       "      <td>19</td>\n",
       "      <td>False</td>\n",
       "      <td>False</td>\n",
       "      <td>False</td>\n",
       "      <td>False</td>\n",
       "      <td>False</td>\n",
       "      <td>False</td>\n",
       "      <td>...</td>\n",
       "      <td>False</td>\n",
       "      <td>False</td>\n",
       "      <td>False</td>\n",
       "      <td>False</td>\n",
       "      <td>False</td>\n",
       "      <td>False</td>\n",
       "      <td>False</td>\n",
       "      <td>False</td>\n",
       "      <td>False</td>\n",
       "      <td>False</td>\n",
       "    </tr>\n",
       "    <tr>\n",
       "      <th>2</th>\n",
       "      <td>0</td>\n",
       "      <td>8.085194</td>\n",
       "      <td>1997</td>\n",
       "      <td>23</td>\n",
       "      <td>False</td>\n",
       "      <td>True</td>\n",
       "      <td>False</td>\n",
       "      <td>False</td>\n",
       "      <td>True</td>\n",
       "      <td>False</td>\n",
       "      <td>...</td>\n",
       "      <td>False</td>\n",
       "      <td>False</td>\n",
       "      <td>False</td>\n",
       "      <td>False</td>\n",
       "      <td>False</td>\n",
       "      <td>False</td>\n",
       "      <td>False</td>\n",
       "      <td>False</td>\n",
       "      <td>False</td>\n",
       "      <td>False</td>\n",
       "    </tr>\n",
       "    <tr>\n",
       "      <th>3</th>\n",
       "      <td>6800000</td>\n",
       "      <td>8.596012</td>\n",
       "      <td>2010</td>\n",
       "      <td>4</td>\n",
       "      <td>True</td>\n",
       "      <td>False</td>\n",
       "      <td>False</td>\n",
       "      <td>False</td>\n",
       "      <td>False</td>\n",
       "      <td>False</td>\n",
       "      <td>...</td>\n",
       "      <td>False</td>\n",
       "      <td>False</td>\n",
       "      <td>False</td>\n",
       "      <td>False</td>\n",
       "      <td>False</td>\n",
       "      <td>False</td>\n",
       "      <td>False</td>\n",
       "      <td>False</td>\n",
       "      <td>False</td>\n",
       "      <td>False</td>\n",
       "    </tr>\n",
       "    <tr>\n",
       "      <th>4</th>\n",
       "      <td>2000000</td>\n",
       "      <td>3.217680</td>\n",
       "      <td>2005</td>\n",
       "      <td>11</td>\n",
       "      <td>False</td>\n",
       "      <td>False</td>\n",
       "      <td>False</td>\n",
       "      <td>False</td>\n",
       "      <td>False</td>\n",
       "      <td>False</td>\n",
       "      <td>...</td>\n",
       "      <td>False</td>\n",
       "      <td>False</td>\n",
       "      <td>False</td>\n",
       "      <td>False</td>\n",
       "      <td>False</td>\n",
       "      <td>False</td>\n",
       "      <td>False</td>\n",
       "      <td>False</td>\n",
       "      <td>False</td>\n",
       "      <td>False</td>\n",
       "    </tr>\n",
       "  </tbody>\n",
       "</table>\n",
       "<p>5 rows × 44 columns</p>\n",
       "</div>"
      ],
      "text/plain": [
       "    budget  popularity  t_release_yr  t_release_mo  t_genre_drama  \\\n",
       "0        0    3.851534          2007            14          False   \n",
       "1    88000    3.559789          1958            19          False   \n",
       "2        0    8.085194          1997            23          False   \n",
       "3  6800000    8.596012          2010             4           True   \n",
       "4  2000000    3.217680          2005            11          False   \n",
       "\n",
       "   t_genre_comedy  t_genre_thriller  t_genre_action  t_genre_romance  \\\n",
       "0           False             False           False            False   \n",
       "1           False             False           False            False   \n",
       "2            True             False           False             True   \n",
       "3           False             False           False            False   \n",
       "4           False             False           False            False   \n",
       "\n",
       "   t_genre_crime  ...  t_production_country_be  t_production_country_ie  \\\n",
       "0          False  ...                    False                    False   \n",
       "1          False  ...                    False                    False   \n",
       "2          False  ...                    False                    False   \n",
       "3          False  ...                    False                    False   \n",
       "4          False  ...                    False                    False   \n",
       "\n",
       "   t_production_country_kr  t_production_country_mx  t_production_country_se  \\\n",
       "0                    False                    False                    False   \n",
       "1                    False                    False                    False   \n",
       "2                    False                    False                    False   \n",
       "3                    False                    False                    False   \n",
       "4                    False                    False                    False   \n",
       "\n",
       "   t_production_country_nz  t_production_country_nl  t_production_country_cz  \\\n",
       "0                    False                    False                    False   \n",
       "1                    False                    False                    False   \n",
       "2                    False                    False                    False   \n",
       "3                    False                    False                    False   \n",
       "4                    False                    False                    False   \n",
       "\n",
       "   t_production_country_dk  t_production_country_br  \n",
       "0                    False                    False  \n",
       "1                    False                    False  \n",
       "2                    False                    False  \n",
       "3                    False                    False  \n",
       "4                    False                    False  \n",
       "\n",
       "[5 rows x 44 columns]"
      ]
     },
     "execution_count": 84,
     "metadata": {},
     "output_type": "execute_result"
    }
   ],
   "source": [
    "test[useful_columns].head()"
   ]
  },
  {
   "cell_type": "markdown",
   "metadata": {},
   "source": [
    "# Traning"
   ]
  },
  {
   "cell_type": "code",
   "execution_count": 101,
   "metadata": {},
   "outputs": [],
   "source": [
    "from sklearn.model_selection import GroupKFold\n",
    "from sklearn.metrics import mean_squared_error\n",
    "import numpy as np\n",
    "\n",
    "def score(data, y):\n",
    "    validation_res = pandas.DataFrame({\n",
    "        \"id\": data[\"id\"].values,\n",
    "         \"actual\": data[\"revenue\"].values,\n",
    "         \"predicted\": np.expm1(y)})\n",
    "\n",
    "    validation_res = validation_res.groupby(\"id\")[\"actual\", \"predicted\"].sum().reset_index()\n",
    "    return np.sqrt(mean_squared_error(np.log1p(validation_res[\"actual\"].values), \n",
    "                                      np.log1p(validation_res[\"predicted\"].values)))\n",
    "\n",
    "class KFoldValidation():\n",
    "    def __init__(self, data, n_splits=5):\n",
    "        unique_vis = np.array(sorted(data['id'].unique()))\n",
    "        folds = GroupKFold(n_splits)\n",
    "        ids = np.arange(data.shape[0])\n",
    "        \n",
    "        self.fold_ids = []\n",
    "        for train_ids, validation_ids in folds.split(X=unique_vis, y=unique_vis, groups=unique_vis):\n",
    "            self.fold_ids.append([\n",
    "                    ids[data['id'].isin(unique_vis[train_ids])],\n",
    "                    ids[data['id'].isin(unique_vis[validation_ids])]\n",
    "                ])\n",
    "            \n",
    "    def validate(self, train, test, features, model, name=\"\", prepare_stacking=False, \n",
    "                 fit_params={\"early_stopping_rounds\": 500, \"verbose\": 100, \"eval_metric\": \"rmse\"}):\n",
    "        full_score = 0\n",
    "        if prepare_stacking:\n",
    "            assert name != \"\"\n",
    "            test[name] = 0\n",
    "            train[name] = np.NaN\n",
    "        \n",
    "        for fold_id, (trn, val) in enumerate(self.fold_ids):\n",
    "            # Prepare training and validation data.\n",
    "            devel = train[features].iloc[trn]\n",
    "            y_devel = np.log1p(train[\"revenue\"].iloc[trn])\n",
    "            valid = train[features].iloc[val]\n",
    "            y_valid = np.log1p(train[\"revenue\"].iloc[val])\n",
    "            # Train the model.\n",
    "            model.fit(devel, y_devel, eval_set=[(valid, y_valid)], **fit_params)\n",
    "            # Compute feature importance.\n",
    "            if len(model.feature_importances_) == len(features):\n",
    "                model.FI = pandas.DataFrame(index=features)\n",
    "                model.FI['fold' + str(fold_id)] = model.feature_importances_ / model.feature_importances_.sum()\n",
    "\n",
    "            # Compute error using cross validaiton set.\n",
    "            predictions = model.predict(valid)\n",
    "            predictions[predictions < 0] = 0\n",
    "            print(\"Fold: \", fold_id, \" error: \", mean_squared_error(y_valid, predictions)**0.5)\n",
    "            \n",
    "            fold_score = score(train.iloc[val], predictions)\n",
    "            full_score += fold_score / len(self.fold_ids)\n",
    "            print(\"Fold \", fold_id, \" score: \", fold_score)\n",
    "            if prepare_stacking:\n",
    "                train[name].iloc[val] = predictions\n",
    "                test_predictions = model.predict(test[features])\n",
    "                test_predictions[test_predictions < 0] = 0\n",
    "                test[name] += test_predictions / len(self.fold_ids)\n",
    "                \n",
    "        print(\"Final score: \", full_score)\n",
    "        return full_score"
   ]
  },
  {
   "cell_type": "code",
   "execution_count": 111,
   "metadata": {},
   "outputs": [],
   "source": [
    "import xgboost as xgb\n",
    "import lightgbm as lgb\n",
    "import catboost as cat\n",
    "import random\n",
    "xgbmodel = xgb.XGBRegressor(max_depth=5, \n",
    "                            learning_rate=0.01, \n",
    "                            n_estimators=10000, \n",
    "                            objective='reg:linear', \n",
    "                            gamma=1.45, \n",
    "                            seed=random.randint(0, 10000),\n",
    "                            silent=True,\n",
    "                            subsample=0.8, \n",
    "                            colsample_bytree=0.7, \n",
    "                            colsample_bylevel=0.5)\n",
    "\n",
    "catmodel = cat.CatBoostRegressor(iterations=10000, \n",
    "                                 learning_rate=0.01, \n",
    "                                 depth=5, \n",
    "                                 eval_metric='RMSE',\n",
    "                                 colsample_bylevel=0.8,\n",
    "                                 bagging_temperature = 0.2,\n",
    "                                 metric_period = None,\n",
    "                                 early_stopping_rounds=200,\n",
    "                                 random_seed=random.randint(0, 10000))\n",
    "\n",
    "lgbmodel = lgb.LGBMRegressor(n_estimators=10000, \n",
    "                             objective='regression', \n",
    "                             metric='rmse',\n",
    "                             max_depth = 5,\n",
    "                             num_leaves=30, \n",
    "                             min_child_samples=100,\n",
    "                             learning_rate=0.01,\n",
    "                             boosting = 'gbdt',\n",
    "                             min_data_in_leaf= 10,\n",
    "                             feature_fraction = 0.9,\n",
    "                             bagging_freq = 1,\n",
    "                             bagging_fraction = 0.9,\n",
    "                             importance_type='gain',\n",
    "                             lambda_l1 = 0.2,\n",
    "                             bagging_seed=random.randint(0, 10000), \n",
    "                             subsample=.8, \n",
    "                             colsample_bytree=.9,\n",
    "                             use_best_model=True)"
   ]
  },
  {
   "cell_type": "code",
   "execution_count": 104,
   "metadata": {},
   "outputs": [
    {
     "name": "stdout",
     "output_type": "stream",
     "text": [
      "[0]\tvalidation_0-rmse:15.5724\n",
      "Will train until validation_0-rmse hasn't improved in 500 rounds.\n"
     ]
    },
    {
     "name": "stderr",
     "output_type": "stream",
     "text": [
      "/home/stps/.virtualenvs/kaggle3/lib/python3.6/site-packages/xgboost/core.py:587: FutureWarning: Series.base is deprecated and will be removed in a future version\n",
      "  if getattr(data, 'base', None) is not None and \\\n"
     ]
    },
    {
     "name": "stdout",
     "output_type": "stream",
     "text": [
      "[100]\tvalidation_0-rmse:6.13204\n",
      "[200]\tvalidation_0-rmse:3.12597\n",
      "[300]\tvalidation_0-rmse:2.44831\n",
      "[400]\tvalidation_0-rmse:2.32905\n",
      "[500]\tvalidation_0-rmse:2.30532\n",
      "[600]\tvalidation_0-rmse:2.29913\n",
      "[700]\tvalidation_0-rmse:2.29352\n",
      "[800]\tvalidation_0-rmse:2.28734\n",
      "[900]\tvalidation_0-rmse:2.2836\n",
      "[1000]\tvalidation_0-rmse:2.28468\n",
      "[1100]\tvalidation_0-rmse:2.28382\n",
      "[1200]\tvalidation_0-rmse:2.28172\n",
      "[1300]\tvalidation_0-rmse:2.28286\n",
      "[1400]\tvalidation_0-rmse:2.28126\n",
      "[1500]\tvalidation_0-rmse:2.28229\n",
      "[1600]\tvalidation_0-rmse:2.28404\n",
      "[1700]\tvalidation_0-rmse:2.28568\n",
      "[1800]\tvalidation_0-rmse:2.28609\n",
      "[1900]\tvalidation_0-rmse:2.28799\n",
      "Stopping. Best iteration:\n",
      "[1415]\tvalidation_0-rmse:2.28092\n",
      "\n",
      "Fold:  0  error:  2.280919803487761\n",
      "Fold  0  score:  2.280919803487761\n"
     ]
    },
    {
     "name": "stderr",
     "output_type": "stream",
     "text": [
      "/home/stps/.virtualenvs/kaggle3/lib/python3.6/site-packages/pandas/core/indexing.py:190: SettingWithCopyWarning: \n",
      "A value is trying to be set on a copy of a slice from a DataFrame\n",
      "\n",
      "See the caveats in the documentation: http://pandas.pydata.org/pandas-docs/stable/indexing.html#indexing-view-versus-copy\n",
      "  self._setitem_with_indexer(indexer, value)\n"
     ]
    },
    {
     "name": "stdout",
     "output_type": "stream",
     "text": [
      "[0]\tvalidation_0-rmse:15.5411\n",
      "Will train until validation_0-rmse hasn't improved in 500 rounds.\n"
     ]
    },
    {
     "name": "stderr",
     "output_type": "stream",
     "text": [
      "/home/stps/.virtualenvs/kaggle3/lib/python3.6/site-packages/xgboost/core.py:587: FutureWarning: Series.base is deprecated and will be removed in a future version\n",
      "  if getattr(data, 'base', None) is not None and \\\n"
     ]
    },
    {
     "name": "stdout",
     "output_type": "stream",
     "text": [
      "[100]\tvalidation_0-rmse:6.06704\n",
      "[200]\tvalidation_0-rmse:2.96949\n",
      "[300]\tvalidation_0-rmse:2.20765\n",
      "[400]\tvalidation_0-rmse:2.07052\n",
      "[500]\tvalidation_0-rmse:2.05074\n",
      "[600]\tvalidation_0-rmse:2.05044\n",
      "[700]\tvalidation_0-rmse:2.05142\n",
      "[800]\tvalidation_0-rmse:2.05042\n",
      "[900]\tvalidation_0-rmse:2.05246\n",
      "[1000]\tvalidation_0-rmse:2.05571\n",
      "Stopping. Best iteration:\n",
      "[534]\tvalidation_0-rmse:2.04844\n",
      "\n",
      "Fold:  1  error:  2.048442516997254\n",
      "Fold  1  score:  2.048442516997254\n",
      "[0]\tvalidation_0-rmse:15.7429\n",
      "Will train until validation_0-rmse hasn't improved in 500 rounds.\n"
     ]
    },
    {
     "name": "stderr",
     "output_type": "stream",
     "text": [
      "/home/stps/.virtualenvs/kaggle3/lib/python3.6/site-packages/pandas/core/indexing.py:190: SettingWithCopyWarning: \n",
      "A value is trying to be set on a copy of a slice from a DataFrame\n",
      "\n",
      "See the caveats in the documentation: http://pandas.pydata.org/pandas-docs/stable/indexing.html#indexing-view-versus-copy\n",
      "  self._setitem_with_indexer(indexer, value)\n",
      "/home/stps/.virtualenvs/kaggle3/lib/python3.6/site-packages/xgboost/core.py:587: FutureWarning: Series.base is deprecated and will be removed in a future version\n",
      "  if getattr(data, 'base', None) is not None and \\\n"
     ]
    },
    {
     "name": "stdout",
     "output_type": "stream",
     "text": [
      "[100]\tvalidation_0-rmse:6.23047\n",
      "[200]\tvalidation_0-rmse:3.00693\n",
      "[300]\tvalidation_0-rmse:2.1052\n",
      "[400]\tvalidation_0-rmse:1.88914\n",
      "[500]\tvalidation_0-rmse:1.83047\n",
      "[600]\tvalidation_0-rmse:1.8115\n",
      "[700]\tvalidation_0-rmse:1.7993\n",
      "[800]\tvalidation_0-rmse:1.79144\n",
      "[900]\tvalidation_0-rmse:1.78466\n",
      "[1000]\tvalidation_0-rmse:1.78107\n",
      "[1100]\tvalidation_0-rmse:1.77415\n",
      "[1200]\tvalidation_0-rmse:1.77247\n",
      "[1300]\tvalidation_0-rmse:1.77243\n",
      "[1400]\tvalidation_0-rmse:1.77142\n",
      "[1500]\tvalidation_0-rmse:1.77129\n",
      "[1600]\tvalidation_0-rmse:1.77097\n",
      "[1700]\tvalidation_0-rmse:1.77154\n",
      "[1800]\tvalidation_0-rmse:1.77177\n",
      "[1900]\tvalidation_0-rmse:1.7727\n",
      "[2000]\tvalidation_0-rmse:1.77338\n",
      "[2100]\tvalidation_0-rmse:1.77625\n",
      "Stopping. Best iteration:\n",
      "[1674]\tvalidation_0-rmse:1.77046\n",
      "\n",
      "Fold:  2  error:  1.7704628346112414\n",
      "Fold  2  score:  1.7704628346112414\n"
     ]
    },
    {
     "name": "stderr",
     "output_type": "stream",
     "text": [
      "/home/stps/.virtualenvs/kaggle3/lib/python3.6/site-packages/pandas/core/indexing.py:190: SettingWithCopyWarning: \n",
      "A value is trying to be set on a copy of a slice from a DataFrame\n",
      "\n",
      "See the caveats in the documentation: http://pandas.pydata.org/pandas-docs/stable/indexing.html#indexing-view-versus-copy\n",
      "  self._setitem_with_indexer(indexer, value)\n"
     ]
    },
    {
     "name": "stdout",
     "output_type": "stream",
     "text": [
      "[0]\tvalidation_0-rmse:15.6504\n",
      "Will train until validation_0-rmse hasn't improved in 500 rounds.\n"
     ]
    },
    {
     "name": "stderr",
     "output_type": "stream",
     "text": [
      "/home/stps/.virtualenvs/kaggle3/lib/python3.6/site-packages/xgboost/core.py:587: FutureWarning: Series.base is deprecated and will be removed in a future version\n",
      "  if getattr(data, 'base', None) is not None and \\\n"
     ]
    },
    {
     "name": "stdout",
     "output_type": "stream",
     "text": [
      "[100]\tvalidation_0-rmse:6.15642\n",
      "[200]\tvalidation_0-rmse:3.04361\n",
      "[300]\tvalidation_0-rmse:2.28142\n",
      "[400]\tvalidation_0-rmse:2.13256\n",
      "[500]\tvalidation_0-rmse:2.10194\n",
      "[600]\tvalidation_0-rmse:2.09248\n",
      "[700]\tvalidation_0-rmse:2.08738\n",
      "[800]\tvalidation_0-rmse:2.08121\n",
      "[900]\tvalidation_0-rmse:2.07866\n",
      "[1000]\tvalidation_0-rmse:2.07705\n",
      "[1100]\tvalidation_0-rmse:2.07452\n",
      "[1200]\tvalidation_0-rmse:2.07123\n",
      "[1300]\tvalidation_0-rmse:2.07013\n",
      "[1400]\tvalidation_0-rmse:2.06977\n",
      "[1500]\tvalidation_0-rmse:2.07053\n",
      "[1600]\tvalidation_0-rmse:2.0711\n",
      "[1700]\tvalidation_0-rmse:2.07175\n",
      "[1800]\tvalidation_0-rmse:2.07165\n",
      "Stopping. Best iteration:\n",
      "[1342]\tvalidation_0-rmse:2.06866\n",
      "\n",
      "Fold:  3  error:  2.0686578269936517\n",
      "Fold  3  score:  2.0686578269936517\n"
     ]
    },
    {
     "name": "stderr",
     "output_type": "stream",
     "text": [
      "/home/stps/.virtualenvs/kaggle3/lib/python3.6/site-packages/pandas/core/indexing.py:190: SettingWithCopyWarning: \n",
      "A value is trying to be set on a copy of a slice from a DataFrame\n",
      "\n",
      "See the caveats in the documentation: http://pandas.pydata.org/pandas-docs/stable/indexing.html#indexing-view-versus-copy\n",
      "  self._setitem_with_indexer(indexer, value)\n"
     ]
    },
    {
     "name": "stdout",
     "output_type": "stream",
     "text": [
      "[0]\tvalidation_0-rmse:15.5362\n",
      "Will train until validation_0-rmse hasn't improved in 500 rounds.\n"
     ]
    },
    {
     "name": "stderr",
     "output_type": "stream",
     "text": [
      "/home/stps/.virtualenvs/kaggle3/lib/python3.6/site-packages/xgboost/core.py:587: FutureWarning: Series.base is deprecated and will be removed in a future version\n",
      "  if getattr(data, 'base', None) is not None and \\\n"
     ]
    },
    {
     "name": "stdout",
     "output_type": "stream",
     "text": [
      "[100]\tvalidation_0-rmse:6.12568\n",
      "[200]\tvalidation_0-rmse:3.1817\n",
      "[300]\tvalidation_0-rmse:2.53963\n",
      "[400]\tvalidation_0-rmse:2.43368\n",
      "[500]\tvalidation_0-rmse:2.40858\n",
      "[600]\tvalidation_0-rmse:2.39652\n",
      "[700]\tvalidation_0-rmse:2.39278\n",
      "[800]\tvalidation_0-rmse:2.38978\n",
      "[900]\tvalidation_0-rmse:2.38189\n",
      "[1000]\tvalidation_0-rmse:2.3742\n",
      "[1100]\tvalidation_0-rmse:2.37212\n",
      "[1200]\tvalidation_0-rmse:2.36425\n",
      "[1300]\tvalidation_0-rmse:2.36361\n",
      "[1400]\tvalidation_0-rmse:2.35954\n",
      "[1500]\tvalidation_0-rmse:2.35738\n",
      "[1600]\tvalidation_0-rmse:2.35616\n",
      "[1700]\tvalidation_0-rmse:2.3554\n",
      "[1800]\tvalidation_0-rmse:2.35395\n",
      "[1900]\tvalidation_0-rmse:2.35499\n",
      "[2000]\tvalidation_0-rmse:2.35156\n",
      "[2100]\tvalidation_0-rmse:2.3517\n",
      "[2200]\tvalidation_0-rmse:2.35184\n",
      "[2300]\tvalidation_0-rmse:2.35137\n",
      "[2400]\tvalidation_0-rmse:2.35068\n",
      "[2500]\tvalidation_0-rmse:2.35128\n",
      "[2600]\tvalidation_0-rmse:2.35077\n",
      "[2700]\tvalidation_0-rmse:2.3507\n",
      "[2800]\tvalidation_0-rmse:2.35128\n",
      "[2900]\tvalidation_0-rmse:2.35102\n",
      "[3000]\tvalidation_0-rmse:2.35135\n",
      "[3100]\tvalidation_0-rmse:2.35302\n",
      "Stopping. Best iteration:\n",
      "[2655]\tvalidation_0-rmse:2.35\n",
      "\n",
      "Fold:  4  error:  2.350004090534384\n",
      "Fold  4  score:  2.350004090534384\n"
     ]
    },
    {
     "name": "stderr",
     "output_type": "stream",
     "text": [
      "/home/stps/.virtualenvs/kaggle3/lib/python3.6/site-packages/pandas/core/indexing.py:190: SettingWithCopyWarning: \n",
      "A value is trying to be set on a copy of a slice from a DataFrame\n",
      "\n",
      "See the caveats in the documentation: http://pandas.pydata.org/pandas-docs/stable/indexing.html#indexing-view-versus-copy\n",
      "  self._setitem_with_indexer(indexer, value)\n"
     ]
    },
    {
     "name": "stdout",
     "output_type": "stream",
     "text": [
      "Final score:  2.1036974145248584\n"
     ]
    },
    {
     "data": {
      "text/plain": [
       "2.1036974145248584"
      ]
     },
     "execution_count": 104,
     "metadata": {},
     "output_type": "execute_result"
    }
   ],
   "source": [
    "kfolder = KFoldValidation(train, 5)\n",
    "kfolder.validate(train, test, useful_columns, xgbmodel, name=\"xgb\", prepare_stacking=True)"
   ]
  },
  {
   "cell_type": "code",
   "execution_count": 113,
   "metadata": {},
   "outputs": [
    {
     "name": "stdout",
     "output_type": "stream",
     "text": [
      "0:\tlearn: 16.1048259\ttest: 16.0583903\tbest: 16.0583903 (0)\ttotal: 63.3ms\tremaining: 10m 33s\n",
      "100:\tlearn: 6.4150537\ttest: 6.4326634\tbest: 6.4326634 (100)\ttotal: 323ms\tremaining: 31.7s\n",
      "200:\tlearn: 3.2056310\ttest: 3.3361352\tbest: 3.3361352 (200)\ttotal: 631ms\tremaining: 30.8s\n",
      "300:\tlearn: 2.3705671\ttest: 2.5921920\tbest: 2.5921920 (300)\ttotal: 873ms\tremaining: 28.1s\n",
      "400:\tlearn: 2.1897896\ttest: 2.4451670\tbest: 2.4451670 (400)\ttotal: 1.2s\tremaining: 28.8s\n",
      "500:\tlearn: 2.1337031\ttest: 2.3968026\tbest: 2.3968026 (500)\ttotal: 1.45s\tremaining: 27.5s\n",
      "600:\tlearn: 2.1007455\ttest: 2.3735442\tbest: 2.3735442 (600)\ttotal: 1.74s\tremaining: 27.1s\n",
      "700:\tlearn: 2.0663265\ttest: 2.3530244\tbest: 2.3530244 (700)\ttotal: 1.98s\tremaining: 26.3s\n",
      "800:\tlearn: 2.0341548\ttest: 2.3346660\tbest: 2.3346595 (799)\ttotal: 2.23s\tremaining: 25.6s\n",
      "900:\tlearn: 2.0079608\ttest: 2.3242536\tbest: 2.3242536 (900)\ttotal: 2.51s\tremaining: 25.4s\n",
      "1000:\tlearn: 1.9863481\ttest: 2.3166450\tbest: 2.3164898 (995)\ttotal: 2.75s\tremaining: 24.7s\n",
      "1100:\tlearn: 1.9643290\ttest: 2.3121069\tbest: 2.3121066 (1099)\ttotal: 2.98s\tremaining: 24.1s\n",
      "1200:\tlearn: 1.9498980\ttest: 2.3084834\tbest: 2.3084834 (1200)\ttotal: 3.22s\tremaining: 23.6s\n",
      "1300:\tlearn: 1.9375893\ttest: 2.3049933\tbest: 2.3048892 (1294)\ttotal: 3.52s\tremaining: 23.5s\n",
      "1400:\tlearn: 1.9235584\ttest: 2.3038019\tbest: 2.3033841 (1353)\ttotal: 3.77s\tremaining: 23.1s\n",
      "1500:\tlearn: 1.9111830\ttest: 2.3014254\tbest: 2.3014245 (1498)\ttotal: 4.02s\tremaining: 22.7s\n",
      "1600:\tlearn: 1.8998137\ttest: 2.3005655\tbest: 2.3001888 (1577)\ttotal: 4.29s\tremaining: 22.5s\n",
      "1700:\tlearn: 1.8939978\ttest: 2.3014044\tbest: 2.3001888 (1577)\ttotal: 4.54s\tremaining: 22.2s\n",
      "Stopped by overfitting detector  (200 iterations wait)\n",
      "\n",
      "bestTest = 2.300188768\n",
      "bestIteration = 1577\n",
      "\n",
      "Shrink model to first 1578 iterations.\n",
      "Fold:  0  error:  2.3001887780630788\n",
      "Fold  0  score:  2.3001887780630788\n"
     ]
    },
    {
     "name": "stderr",
     "output_type": "stream",
     "text": [
      "/home/stps/.virtualenvs/kaggle3/lib/python3.6/site-packages/pandas/core/indexing.py:190: SettingWithCopyWarning: \n",
      "A value is trying to be set on a copy of a slice from a DataFrame\n",
      "\n",
      "See the caveats in the documentation: http://pandas.pydata.org/pandas-docs/stable/indexing.html#indexing-view-versus-copy\n",
      "  self._setitem_with_indexer(indexer, value)\n"
     ]
    },
    {
     "name": "stdout",
     "output_type": "stream",
     "text": [
      "0:\tlearn: 16.1123221\ttest: 16.0286582\tbest: 16.0286582 (0)\ttotal: 5.49ms\tremaining: 54.9s\n",
      "100:\tlearn: 6.4416376\ttest: 6.3788949\tbest: 6.3788949 (100)\ttotal: 322ms\tremaining: 31.6s\n",
      "200:\tlearn: 3.2561674\ttest: 3.1876570\tbest: 3.1876570 (200)\ttotal: 598ms\tremaining: 29.1s\n",
      "300:\tlearn: 2.4323246\ttest: 2.3573634\tbest: 2.3573634 (300)\ttotal: 875ms\tremaining: 28.2s\n",
      "400:\tlearn: 2.2518149\ttest: 2.1828054\tbest: 2.1828054 (400)\ttotal: 1.18s\tremaining: 28.2s\n",
      "500:\tlearn: 2.1970851\ttest: 2.1383502\tbest: 2.1383502 (500)\ttotal: 1.51s\tremaining: 28.7s\n",
      "600:\tlearn: 2.1678061\ttest: 2.1192274\tbest: 2.1192274 (600)\ttotal: 1.85s\tremaining: 28.9s\n",
      "700:\tlearn: 2.1372904\ttest: 2.0983540\tbest: 2.0983540 (700)\ttotal: 2.14s\tremaining: 28.4s\n",
      "800:\tlearn: 2.1079424\ttest: 2.0783970\tbest: 2.0783970 (800)\ttotal: 2.51s\tremaining: 28.8s\n",
      "900:\tlearn: 2.0817844\ttest: 2.0627434\tbest: 2.0627434 (900)\ttotal: 2.73s\tremaining: 27.6s\n",
      "1000:\tlearn: 2.0568188\ttest: 2.0537247\tbest: 2.0537247 (1000)\ttotal: 3.07s\tremaining: 27.6s\n",
      "1100:\tlearn: 2.0268603\ttest: 2.0418275\tbest: 2.0417438 (1099)\ttotal: 3.32s\tremaining: 26.9s\n",
      "1200:\tlearn: 1.9972367\ttest: 2.0307621\tbest: 2.0307427 (1199)\ttotal: 3.59s\tremaining: 26.3s\n",
      "1300:\tlearn: 1.9740016\ttest: 2.0266237\tbest: 2.0264005 (1294)\ttotal: 3.9s\tremaining: 26.1s\n",
      "1400:\tlearn: 1.9556433\ttest: 2.0253861\tbest: 2.0247462 (1351)\ttotal: 4.17s\tremaining: 25.6s\n",
      "1500:\tlearn: 1.9475364\ttest: 2.0255438\tbest: 2.0247462 (1351)\ttotal: 4.45s\tremaining: 25.2s\n",
      "Stopped by overfitting detector  (200 iterations wait)\n",
      "\n",
      "bestTest = 2.024746155\n",
      "bestIteration = 1351\n",
      "\n",
      "Shrink model to first 1352 iterations.\n",
      "Fold:  1  error:  2.0247461830664206\n",
      "Fold  1  score:  2.0247461830664206\n"
     ]
    },
    {
     "name": "stderr",
     "output_type": "stream",
     "text": [
      "/home/stps/.virtualenvs/kaggle3/lib/python3.6/site-packages/pandas/core/indexing.py:190: SettingWithCopyWarning: \n",
      "A value is trying to be set on a copy of a slice from a DataFrame\n",
      "\n",
      "See the caveats in the documentation: http://pandas.pydata.org/pandas-docs/stable/indexing.html#indexing-view-versus-copy\n",
      "  self._setitem_with_indexer(indexer, value)\n"
     ]
    },
    {
     "name": "stdout",
     "output_type": "stream",
     "text": [
      "0:\tlearn: 16.0626635\ttest: 16.2312068\tbest: 16.2312068 (0)\ttotal: 3.39ms\tremaining: 33.9s\n",
      "100:\tlearn: 6.4390346\ttest: 6.5358404\tbest: 6.5358404 (100)\ttotal: 312ms\tremaining: 30.5s\n",
      "200:\tlearn: 3.2773909\ttest: 3.2245158\tbest: 3.2245158 (200)\ttotal: 583ms\tremaining: 28.4s\n",
      "300:\tlearn: 2.4809855\ttest: 2.2755680\tbest: 2.2755680 (300)\ttotal: 1.01s\tremaining: 32.7s\n",
      "400:\tlearn: 2.3063937\ttest: 2.0318436\tbest: 2.0318436 (400)\ttotal: 1.41s\tremaining: 33.7s\n",
      "500:\tlearn: 2.2517635\ttest: 1.9567443\tbest: 1.9567443 (500)\ttotal: 1.73s\tremaining: 32.7s\n",
      "600:\tlearn: 2.2209070\ttest: 1.9256473\tbest: 1.9256473 (600)\ttotal: 2.14s\tremaining: 33.4s\n",
      "700:\tlearn: 2.1962847\ttest: 1.9073850\tbest: 1.9073850 (700)\ttotal: 2.46s\tremaining: 32.6s\n",
      "800:\tlearn: 2.1693868\ttest: 1.8893920\tbest: 1.8893920 (800)\ttotal: 2.82s\tremaining: 32.4s\n",
      "900:\tlearn: 2.1541463\ttest: 1.8830186\tbest: 1.8829210 (895)\ttotal: 3.08s\tremaining: 31.1s\n",
      "1000:\tlearn: 2.1364848\ttest: 1.8743185\tbest: 1.8743175 (998)\ttotal: 3.33s\tremaining: 30s\n",
      "1100:\tlearn: 2.1183516\ttest: 1.8671162\tbest: 1.8670146 (1097)\ttotal: 3.75s\tremaining: 30.4s\n",
      "1200:\tlearn: 2.1010509\ttest: 1.8609134\tbest: 1.8608998 (1198)\ttotal: 4.07s\tremaining: 29.9s\n",
      "1300:\tlearn: 2.0840393\ttest: 1.8555013\tbest: 1.8554310 (1297)\ttotal: 4.32s\tremaining: 28.9s\n",
      "1400:\tlearn: 2.0733796\ttest: 1.8526485\tbest: 1.8525923 (1393)\ttotal: 4.57s\tremaining: 28.1s\n",
      "1500:\tlearn: 2.0670111\ttest: 1.8511312\tbest: 1.8510331 (1473)\ttotal: 4.79s\tremaining: 27.1s\n",
      "1600:\tlearn: 2.0600084\ttest: 1.8504019\tbest: 1.8503838 (1597)\ttotal: 5.02s\tremaining: 26.3s\n",
      "1700:\tlearn: 2.0547528\ttest: 1.8496516\tbest: 1.8496516 (1700)\ttotal: 5.23s\tremaining: 25.5s\n",
      "1800:\tlearn: 2.0443721\ttest: 1.8475115\tbest: 1.8475115 (1800)\ttotal: 5.59s\tremaining: 25.4s\n",
      "1900:\tlearn: 2.0341595\ttest: 1.8454738\tbest: 1.8454466 (1897)\ttotal: 5.85s\tremaining: 24.9s\n",
      "2000:\tlearn: 2.0256760\ttest: 1.8442651\tbest: 1.8442649 (1999)\ttotal: 6.1s\tremaining: 24.4s\n",
      "2100:\tlearn: 2.0178085\ttest: 1.8423781\tbest: 1.8423781 (2100)\ttotal: 6.44s\tremaining: 24.2s\n",
      "2200:\tlearn: 2.0166715\ttest: 1.8424459\tbest: 1.8422852 (2190)\ttotal: 6.64s\tremaining: 23.5s\n",
      "2300:\tlearn: 2.0139129\ttest: 1.8423137\tbest: 1.8421186 (2240)\ttotal: 6.92s\tremaining: 23.1s\n",
      "2400:\tlearn: 2.0079957\ttest: 1.8417200\tbest: 1.8414279 (2371)\ttotal: 7.2s\tremaining: 22.8s\n",
      "2500:\tlearn: 2.0037545\ttest: 1.8418641\tbest: 1.8413554 (2438)\ttotal: 7.41s\tremaining: 22.2s\n",
      "2600:\tlearn: 2.0007052\ttest: 1.8423011\tbest: 1.8413554 (2438)\ttotal: 7.63s\tremaining: 21.7s\n",
      "Stopped by overfitting detector  (200 iterations wait)\n",
      "\n",
      "bestTest = 1.841355366\n",
      "bestIteration = 2438\n",
      "\n",
      "Shrink model to first 2439 iterations.\n",
      "Fold:  2  error:  1.8413553563021763\n",
      "Fold  2  score:  1.8413553563021763\n"
     ]
    },
    {
     "name": "stderr",
     "output_type": "stream",
     "text": [
      "/home/stps/.virtualenvs/kaggle3/lib/python3.6/site-packages/pandas/core/indexing.py:190: SettingWithCopyWarning: \n",
      "A value is trying to be set on a copy of a slice from a DataFrame\n",
      "\n",
      "See the caveats in the documentation: http://pandas.pydata.org/pandas-docs/stable/indexing.html#indexing-view-versus-copy\n",
      "  self._setitem_with_indexer(indexer, value)\n"
     ]
    },
    {
     "name": "stdout",
     "output_type": "stream",
     "text": [
      "0:\tlearn: 16.0862289\ttest: 16.1384971\tbest: 16.1384971 (0)\ttotal: 4.16ms\tremaining: 41.6s\n",
      "100:\tlearn: 6.4247045\ttest: 6.4479624\tbest: 6.4479624 (100)\ttotal: 296ms\tremaining: 29s\n",
      "200:\tlearn: 3.2426601\ttest: 3.2403365\tbest: 3.2403365 (200)\ttotal: 577ms\tremaining: 28.1s\n",
      "300:\tlearn: 2.4190060\ttest: 2.4103463\tbest: 2.4103463 (300)\ttotal: 974ms\tremaining: 31.4s\n",
      "400:\tlearn: 2.2320048\ttest: 2.2348433\tbest: 2.2348433 (400)\ttotal: 1.4s\tremaining: 33.6s\n",
      "500:\tlearn: 2.1731594\ttest: 2.1917455\tbest: 2.1917455 (500)\ttotal: 1.79s\tremaining: 33.9s\n",
      "600:\tlearn: 2.1396174\ttest: 2.1744854\tbest: 2.1744854 (600)\ttotal: 2.07s\tremaining: 32.4s\n",
      "700:\tlearn: 2.1214917\ttest: 2.1673418\tbest: 2.1673418 (700)\ttotal: 2.35s\tremaining: 31.2s\n",
      "800:\tlearn: 2.1012020\ttest: 2.1601697\tbest: 2.1601697 (800)\ttotal: 2.78s\tremaining: 31.9s\n",
      "900:\tlearn: 2.0840212\ttest: 2.1499951\tbest: 2.1499951 (900)\ttotal: 3.12s\tremaining: 31.5s\n",
      "1000:\tlearn: 2.0653933\ttest: 2.1410179\tbest: 2.1409622 (998)\ttotal: 3.47s\tremaining: 31.2s\n",
      "1100:\tlearn: 2.0165463\ttest: 2.1146750\tbest: 2.1146750 (1100)\ttotal: 3.83s\tremaining: 31s\n",
      "1200:\tlearn: 1.9839493\ttest: 2.1016780\tbest: 2.1015152 (1198)\ttotal: 4.21s\tremaining: 30.8s\n",
      "1300:\tlearn: 1.9616993\ttest: 2.0923783\tbest: 2.0923783 (1300)\ttotal: 4.62s\tremaining: 30.9s\n",
      "1400:\tlearn: 1.9434629\ttest: 2.0858871\tbest: 2.0858871 (1400)\ttotal: 4.96s\tremaining: 30.4s\n",
      "1500:\tlearn: 1.9310590\ttest: 2.0839057\tbest: 2.0836826 (1492)\ttotal: 5.31s\tremaining: 30s\n",
      "1600:\tlearn: 1.9227415\ttest: 2.0819369\tbest: 2.0819369 (1600)\ttotal: 5.66s\tremaining: 29.7s\n",
      "1700:\tlearn: 1.9149908\ttest: 2.0795470\tbest: 2.0795470 (1700)\ttotal: 6.08s\tremaining: 29.7s\n",
      "1800:\tlearn: 1.9081174\ttest: 2.0771099\tbest: 2.0769063 (1797)\ttotal: 6.44s\tremaining: 29.3s\n",
      "1900:\tlearn: 1.9017901\ttest: 2.0747545\tbest: 2.0747159 (1899)\ttotal: 6.77s\tremaining: 28.9s\n",
      "2000:\tlearn: 1.8978805\ttest: 2.0724986\tbest: 2.0724775 (1999)\ttotal: 7.1s\tremaining: 28.4s\n",
      "2100:\tlearn: 1.8928434\ttest: 2.0711952\tbest: 2.0711470 (2094)\ttotal: 7.47s\tremaining: 28.1s\n",
      "2200:\tlearn: 1.8892253\ttest: 2.0693740\tbest: 2.0693740 (2200)\ttotal: 7.83s\tremaining: 27.7s\n",
      "2300:\tlearn: 1.8849855\ttest: 2.0674258\tbest: 2.0674258 (2300)\ttotal: 8.32s\tremaining: 27.8s\n",
      "2400:\tlearn: 1.8808630\ttest: 2.0671704\tbest: 2.0670234 (2365)\ttotal: 8.66s\tremaining: 27.4s\n",
      "2500:\tlearn: 1.8789301\ttest: 2.0670458\tbest: 2.0670234 (2365)\ttotal: 9s\tremaining: 27s\n",
      "2600:\tlearn: 1.8767078\ttest: 2.0663213\tbest: 2.0663213 (2600)\ttotal: 9.31s\tremaining: 26.5s\n",
      "2700:\tlearn: 1.8752554\ttest: 2.0660033\tbest: 2.0660033 (2700)\ttotal: 9.6s\tremaining: 25.9s\n",
      "2800:\tlearn: 1.8738156\ttest: 2.0658296\tbest: 2.0657806 (2747)\ttotal: 9.91s\tremaining: 25.5s\n",
      "2900:\tlearn: 1.8717204\ttest: 2.0661391\tbest: 2.0656655 (2836)\ttotal: 10.2s\tremaining: 24.9s\n",
      "3000:\tlearn: 1.8687691\ttest: 2.0661933\tbest: 2.0656655 (2836)\ttotal: 10.4s\tremaining: 24.3s\n",
      "Stopped by overfitting detector  (200 iterations wait)\n",
      "\n",
      "bestTest = 2.065665477\n",
      "bestIteration = 2836\n",
      "\n",
      "Shrink model to first 2837 iterations.\n",
      "Fold:  3  error:  2.065665474564828\n",
      "Fold  3  score:  2.065665474564828\n",
      "0:\tlearn: 16.1164842\ttest: 16.0251755\tbest: 16.0251755 (0)\ttotal: 5.3ms\tremaining: 53s\n"
     ]
    },
    {
     "name": "stderr",
     "output_type": "stream",
     "text": [
      "/home/stps/.virtualenvs/kaggle3/lib/python3.6/site-packages/pandas/core/indexing.py:190: SettingWithCopyWarning: \n",
      "A value is trying to be set on a copy of a slice from a DataFrame\n",
      "\n",
      "See the caveats in the documentation: http://pandas.pydata.org/pandas-docs/stable/indexing.html#indexing-view-versus-copy\n",
      "  self._setitem_with_indexer(indexer, value)\n"
     ]
    },
    {
     "name": "stdout",
     "output_type": "stream",
     "text": [
      "100:\tlearn: 6.4070008\ttest: 6.4028312\tbest: 6.4028312 (100)\ttotal: 302ms\tremaining: 29.6s\n",
      "200:\tlearn: 3.1843198\ttest: 3.3368502\tbest: 3.3368502 (200)\ttotal: 610ms\tremaining: 29.7s\n",
      "300:\tlearn: 2.3486695\ttest: 2.6286202\tbest: 2.6286202 (300)\ttotal: 976ms\tremaining: 31.5s\n",
      "400:\tlearn: 2.1606273\ttest: 2.5009755\tbest: 2.5009755 (400)\ttotal: 1.3s\tremaining: 31.1s\n",
      "500:\tlearn: 2.0996229\ttest: 2.4746559\tbest: 2.4746559 (500)\ttotal: 1.68s\tremaining: 31.8s\n",
      "600:\tlearn: 2.0676196\ttest: 2.4652481\tbest: 2.4652481 (600)\ttotal: 2.02s\tremaining: 31.5s\n",
      "700:\tlearn: 2.0438423\ttest: 2.4563159\tbest: 2.4557707 (684)\ttotal: 2.33s\tremaining: 31s\n",
      "800:\tlearn: 2.0247544\ttest: 2.4534519\tbest: 2.4533083 (777)\ttotal: 2.68s\tremaining: 30.8s\n",
      "900:\tlearn: 2.0121247\ttest: 2.4457389\tbest: 2.4457389 (900)\ttotal: 3.1s\tremaining: 31.3s\n",
      "1000:\tlearn: 1.9969260\ttest: 2.4433130\tbest: 2.4424646 (974)\ttotal: 3.54s\tremaining: 31.9s\n",
      "1100:\tlearn: 1.9873682\ttest: 2.4408076\tbest: 2.4403971 (1066)\ttotal: 3.91s\tremaining: 31.6s\n",
      "1200:\tlearn: 1.9771004\ttest: 2.4367451\tbest: 2.4367451 (1200)\ttotal: 4.27s\tremaining: 31.3s\n",
      "1300:\tlearn: 1.9715519\ttest: 2.4359532\tbest: 2.4359532 (1300)\ttotal: 4.66s\tremaining: 31.1s\n",
      "1400:\tlearn: 1.9666215\ttest: 2.4343606\tbest: 2.4340866 (1397)\ttotal: 4.95s\tremaining: 30.4s\n",
      "1500:\tlearn: 1.9593482\ttest: 2.4299723\tbest: 2.4294087 (1480)\ttotal: 5.3s\tremaining: 30s\n",
      "1600:\tlearn: 1.9534632\ttest: 2.4295064\tbest: 2.4291222 (1567)\ttotal: 5.61s\tremaining: 29.4s\n",
      "1700:\tlearn: 1.9480845\ttest: 2.4305938\tbest: 2.4291222 (1567)\ttotal: 5.94s\tremaining: 29s\n",
      "Stopped by overfitting detector  (200 iterations wait)\n",
      "\n",
      "bestTest = 2.429122166\n",
      "bestIteration = 1567\n",
      "\n",
      "Shrink model to first 1568 iterations.\n",
      "Fold:  4  error:  2.4291221679562405\n",
      "Fold  4  score:  2.4291221679562405\n",
      "Final score:  2.132215591990549\n"
     ]
    },
    {
     "name": "stderr",
     "output_type": "stream",
     "text": [
      "/home/stps/.virtualenvs/kaggle3/lib/python3.6/site-packages/pandas/core/indexing.py:190: SettingWithCopyWarning: \n",
      "A value is trying to be set on a copy of a slice from a DataFrame\n",
      "\n",
      "See the caveats in the documentation: http://pandas.pydata.org/pandas-docs/stable/indexing.html#indexing-view-versus-copy\n",
      "  self._setitem_with_indexer(indexer, value)\n"
     ]
    },
    {
     "data": {
      "text/plain": [
       "2.132215591990549"
      ]
     },
     "execution_count": 113,
     "metadata": {},
     "output_type": "execute_result"
    }
   ],
   "source": [
    "kfolder.validate(train, test, useful_columns,\n",
    "                 catmodel, name=\"cat\", prepare_stacking=True,\n",
    "                 fit_params={\"use_best_model\": True, \"verbose\": 100})"
   ]
  },
  {
   "cell_type": "code",
   "execution_count": 114,
   "metadata": {},
   "outputs": [
    {
     "name": "stdout",
     "output_type": "stream",
     "text": [
      "Training until validation scores don't improve for 500 rounds.\n",
      "[100]\tvalid_0's rmse: 2.51576\n",
      "[200]\tvalid_0's rmse: 2.36374\n",
      "[300]\tvalid_0's rmse: 2.31625\n",
      "[400]\tvalid_0's rmse: 2.3025\n",
      "[500]\tvalid_0's rmse: 2.29542\n",
      "[600]\tvalid_0's rmse: 2.29138\n",
      "[700]\tvalid_0's rmse: 2.2883\n",
      "[800]\tvalid_0's rmse: 2.28714\n",
      "[900]\tvalid_0's rmse: 2.28799\n",
      "[1000]\tvalid_0's rmse: 2.28737\n",
      "[1100]\tvalid_0's rmse: 2.28818\n",
      "[1200]\tvalid_0's rmse: 2.29101\n",
      "[1300]\tvalid_0's rmse: 2.29332\n",
      "[1400]\tvalid_0's rmse: 2.29545\n",
      "Early stopping, best iteration is:\n",
      "[948]\tvalid_0's rmse: 2.28673\n",
      "Fold:  0  error:  2.2867347024465103\n",
      "Fold  0  score:  2.2867347024465103\n"
     ]
    },
    {
     "name": "stderr",
     "output_type": "stream",
     "text": [
      "/home/stps/.virtualenvs/kaggle3/lib/python3.6/site-packages/pandas/core/indexing.py:190: SettingWithCopyWarning: \n",
      "A value is trying to be set on a copy of a slice from a DataFrame\n",
      "\n",
      "See the caveats in the documentation: http://pandas.pydata.org/pandas-docs/stable/indexing.html#indexing-view-versus-copy\n",
      "  self._setitem_with_indexer(indexer, value)\n"
     ]
    },
    {
     "name": "stdout",
     "output_type": "stream",
     "text": [
      "Training until validation scores don't improve for 500 rounds.\n",
      "[100]\tvalid_0's rmse: 2.23161\n",
      "[200]\tvalid_0's rmse: 2.07962\n",
      "[300]\tvalid_0's rmse: 2.03909\n",
      "[400]\tvalid_0's rmse: 2.02649\n",
      "[500]\tvalid_0's rmse: 2.02393\n",
      "[600]\tvalid_0's rmse: 2.02428\n",
      "[700]\tvalid_0's rmse: 2.02811\n",
      "[800]\tvalid_0's rmse: 2.0314\n",
      "[900]\tvalid_0's rmse: 2.03697\n",
      "[1000]\tvalid_0's rmse: 2.04212\n",
      "Early stopping, best iteration is:\n",
      "[558]\tvalid_0's rmse: 2.02198\n",
      "Fold:  1  error:  2.021976388934599\n",
      "Fold  1  score:  2.021976388934599\n"
     ]
    },
    {
     "name": "stderr",
     "output_type": "stream",
     "text": [
      "/home/stps/.virtualenvs/kaggle3/lib/python3.6/site-packages/pandas/core/indexing.py:190: SettingWithCopyWarning: \n",
      "A value is trying to be set on a copy of a slice from a DataFrame\n",
      "\n",
      "See the caveats in the documentation: http://pandas.pydata.org/pandas-docs/stable/indexing.html#indexing-view-versus-copy\n",
      "  self._setitem_with_indexer(indexer, value)\n"
     ]
    },
    {
     "name": "stdout",
     "output_type": "stream",
     "text": [
      "Training until validation scores don't improve for 500 rounds.\n",
      "[100]\tvalid_0's rmse: 2.03759\n",
      "[200]\tvalid_0's rmse: 1.85502\n",
      "[300]\tvalid_0's rmse: 1.8091\n",
      "[400]\tvalid_0's rmse: 1.7945\n",
      "[500]\tvalid_0's rmse: 1.78719\n",
      "[600]\tvalid_0's rmse: 1.78262\n",
      "[700]\tvalid_0's rmse: 1.7828\n",
      "[800]\tvalid_0's rmse: 1.78178\n",
      "[900]\tvalid_0's rmse: 1.7821\n",
      "[1000]\tvalid_0's rmse: 1.78428\n",
      "[1100]\tvalid_0's rmse: 1.78737\n",
      "[1200]\tvalid_0's rmse: 1.79073\n",
      "[1300]\tvalid_0's rmse: 1.79259\n",
      "Early stopping, best iteration is:\n",
      "[827]\tvalid_0's rmse: 1.78121\n",
      "Fold:  2  error:  1.7812134315411043\n",
      "Fold  2  score:  1.7812134315411043\n"
     ]
    },
    {
     "name": "stderr",
     "output_type": "stream",
     "text": [
      "/home/stps/.virtualenvs/kaggle3/lib/python3.6/site-packages/pandas/core/indexing.py:190: SettingWithCopyWarning: \n",
      "A value is trying to be set on a copy of a slice from a DataFrame\n",
      "\n",
      "See the caveats in the documentation: http://pandas.pydata.org/pandas-docs/stable/indexing.html#indexing-view-versus-copy\n",
      "  self._setitem_with_indexer(indexer, value)\n"
     ]
    },
    {
     "name": "stdout",
     "output_type": "stream",
     "text": [
      "Training until validation scores don't improve for 500 rounds.\n",
      "[100]\tvalid_0's rmse: 2.27121\n",
      "[200]\tvalid_0's rmse: 2.12973\n",
      "[300]\tvalid_0's rmse: 2.09683\n",
      "[400]\tvalid_0's rmse: 2.08156\n",
      "[500]\tvalid_0's rmse: 2.07085\n",
      "[600]\tvalid_0's rmse: 2.06256\n",
      "[700]\tvalid_0's rmse: 2.05786\n",
      "[800]\tvalid_0's rmse: 2.05101\n",
      "[900]\tvalid_0's rmse: 2.04799\n",
      "[1000]\tvalid_0's rmse: 2.04637\n",
      "[1100]\tvalid_0's rmse: 2.04253\n",
      "[1200]\tvalid_0's rmse: 2.04072\n",
      "[1300]\tvalid_0's rmse: 2.03938\n",
      "[1400]\tvalid_0's rmse: 2.03969\n",
      "[1500]\tvalid_0's rmse: 2.04057\n",
      "[1600]\tvalid_0's rmse: 2.04104\n",
      "[1700]\tvalid_0's rmse: 2.04189\n",
      "[1800]\tvalid_0's rmse: 2.04282\n",
      "[1900]\tvalid_0's rmse: 2.04485\n",
      "Early stopping, best iteration is:\n",
      "[1427]\tvalid_0's rmse: 2.0388\n",
      "Fold:  3  error:  2.038804523218713\n",
      "Fold  3  score:  2.038804523218713\n"
     ]
    },
    {
     "name": "stderr",
     "output_type": "stream",
     "text": [
      "/home/stps/.virtualenvs/kaggle3/lib/python3.6/site-packages/pandas/core/indexing.py:190: SettingWithCopyWarning: \n",
      "A value is trying to be set on a copy of a slice from a DataFrame\n",
      "\n",
      "See the caveats in the documentation: http://pandas.pydata.org/pandas-docs/stable/indexing.html#indexing-view-versus-copy\n",
      "  self._setitem_with_indexer(indexer, value)\n"
     ]
    },
    {
     "name": "stdout",
     "output_type": "stream",
     "text": [
      "Training until validation scores don't improve for 500 rounds.\n",
      "[100]\tvalid_0's rmse: 2.60334\n",
      "[200]\tvalid_0's rmse: 2.44739\n",
      "[300]\tvalid_0's rmse: 2.38441\n",
      "[400]\tvalid_0's rmse: 2.36031\n",
      "[500]\tvalid_0's rmse: 2.33892\n",
      "[600]\tvalid_0's rmse: 2.33423\n",
      "[700]\tvalid_0's rmse: 2.32747\n",
      "[800]\tvalid_0's rmse: 2.32205\n",
      "[900]\tvalid_0's rmse: 2.32134\n",
      "[1000]\tvalid_0's rmse: 2.32181\n",
      "[1100]\tvalid_0's rmse: 2.31408\n",
      "[1200]\tvalid_0's rmse: 2.31181\n",
      "[1300]\tvalid_0's rmse: 2.31183\n",
      "[1400]\tvalid_0's rmse: 2.31001\n",
      "[1500]\tvalid_0's rmse: 2.31363\n",
      "[1600]\tvalid_0's rmse: 2.31197\n",
      "[1700]\tvalid_0's rmse: 2.30762\n",
      "[1800]\tvalid_0's rmse: 2.3071\n",
      "[1900]\tvalid_0's rmse: 2.30749\n",
      "[2000]\tvalid_0's rmse: 2.30758\n",
      "[2100]\tvalid_0's rmse: 2.30935\n",
      "[2200]\tvalid_0's rmse: 2.30878\n",
      "Early stopping, best iteration is:\n",
      "[1743]\tvalid_0's rmse: 2.30555\n",
      "Fold:  4  error:  2.3055460828539336\n",
      "Fold  4  score:  2.3055460828539336\n"
     ]
    },
    {
     "name": "stderr",
     "output_type": "stream",
     "text": [
      "/home/stps/.virtualenvs/kaggle3/lib/python3.6/site-packages/pandas/core/indexing.py:190: SettingWithCopyWarning: \n",
      "A value is trying to be set on a copy of a slice from a DataFrame\n",
      "\n",
      "See the caveats in the documentation: http://pandas.pydata.org/pandas-docs/stable/indexing.html#indexing-view-versus-copy\n",
      "  self._setitem_with_indexer(indexer, value)\n"
     ]
    },
    {
     "name": "stdout",
     "output_type": "stream",
     "text": [
      "Final score:  2.086855025798972\n"
     ]
    },
    {
     "data": {
      "text/plain": [
       "2.086855025798972"
      ]
     },
     "execution_count": 114,
     "metadata": {},
     "output_type": "execute_result"
    }
   ],
   "source": [
    "kfolder.validate(train, test, useful_columns, lgbmodel, name=\"lgb\", prepare_stacking=True)"
   ]
  },
  {
   "cell_type": "code",
   "execution_count": 126,
   "metadata": {},
   "outputs": [
    {
     "data": {
      "text/plain": [
       "<matplotlib.axes._subplots.AxesSubplot at 0x7f5bf5bac748>"
      ]
     },
     "execution_count": 126,
     "metadata": {},
     "output_type": "execute_result"
    },
    {
     "data": {
      "image/png": "[encoded data removed]",
      "text/plain": [
       "<Figure size 720x720 with 1 Axes>"
      ]
     },
     "metadata": {
      "needs_background": "light"
     },
     "output_type": "display_data"
    }
   ],
   "source": [
    "catmodel.FI.mean(axis=1).sort_values().tail(20).plot(\n",
    "    kind=\"barh\",\n",
    "    title = \"catmodel:Features Importance\",\n",
    "    figsize = (10,10))"
   ]
  },
  {
   "cell_type": "code",
   "execution_count": 127,
   "metadata": {},
   "outputs": [
    {
     "data": {
      "text/plain": [
       "<matplotlib.axes._subplots.AxesSubplot at 0x7f5bf5afaf98>"
      ]
     },
     "execution_count": 127,
     "metadata": {},
     "output_type": "execute_result"
    },
    {
     "data": {
      "image/png": "[encoded data removed]",
      "text/plain": [
       "<Figure size 720x720 with 1 Axes>"
      ]
     },
     "metadata": {
      "needs_background": "light"
     },
     "output_type": "display_data"
    }
   ],
   "source": [
    "lgbmodel.FI.mean(axis=1).sort_values().tail(20).plot(\n",
    "    kind=\"barh\",\n",
    "    title = \"catmodel:Features Importance\",\n",
    "    figsize = (10,10))"
   ]
  },
  {
   "cell_type": "code",
   "execution_count": 105,
   "metadata": {},
   "outputs": [
    {
     "data": {
      "text/html": [
       "<div>\n",
       "<style scoped>\n",
       "    .dataframe tbody tr th:only-of-type {\n",
       "        vertical-align: middle;\n",
       "    }\n",
       "\n",
       "    .dataframe tbody tr th {\n",
       "        vertical-align: top;\n",
       "    }\n",
       "\n",
       "    .dataframe thead th {\n",
       "        text-align: right;\n",
       "    }\n",
       "</style>\n",
       "<table border=\"1\" class=\"dataframe\">\n",
       "  <thead>\n",
       "    <tr style=\"text-align: right;\">\n",
       "      <th></th>\n",
       "      <th>id</th>\n",
       "      <th>revenue</th>\n",
       "    </tr>\n",
       "  </thead>\n",
       "  <tbody>\n",
       "    <tr>\n",
       "      <th>0</th>\n",
       "      <td>3001</td>\n",
       "      <td>1.618101e+07</td>\n",
       "    </tr>\n",
       "    <tr>\n",
       "      <th>1</th>\n",
       "      <td>3002</td>\n",
       "      <td>1.465666e+06</td>\n",
       "    </tr>\n",
       "    <tr>\n",
       "      <th>2</th>\n",
       "      <td>3003</td>\n",
       "      <td>6.553200e+06</td>\n",
       "    </tr>\n",
       "    <tr>\n",
       "      <th>3</th>\n",
       "      <td>3004</td>\n",
       "      <td>1.252567e+06</td>\n",
       "    </tr>\n",
       "    <tr>\n",
       "      <th>4</th>\n",
       "      <td>3005</td>\n",
       "      <td>1.109318e+06</td>\n",
       "    </tr>\n",
       "  </tbody>\n",
       "</table>\n",
       "</div>"
      ],
      "text/plain": [
       "     id       revenue\n",
       "0  3001  1.618101e+07\n",
       "1  3002  1.465666e+06\n",
       "2  3003  6.553200e+06\n",
       "3  3004  1.252567e+06\n",
       "4  3005  1.109318e+06"
      ]
     },
     "execution_count": 105,
     "metadata": {},
     "output_type": "execute_result"
    }
   ],
   "source": [
    "test['revenue'] =  np.expm1(test[\"xgb\"])\n",
    "test[['id','revenue']].to_csv('submission_xgb.csv', index=False)\n",
    "test[['id','revenue']].head()"
   ]
  },
  {
   "cell_type": "code",
   "execution_count": 136,
   "metadata": {},
   "outputs": [
    {
     "name": "stdout",
     "output_type": "stream",
     "text": [
      "RMSE model mix1: 2.0936215137451195\n",
      "RMSE model mix2: 2.0956007350051933\n",
      "RMSE model xgb: 2.1135332963942064\n",
      "RMSE model lgb: 2.0958307197645887\n",
      "RMSE model cat: 2.142366141835594\n"
     ]
    }
   ],
   "source": [
    "def dot_sum(A, B):\n",
    "    return sum(a*b for a,b in zip(A, B))\n",
    "\n",
    "train['mix1'] = dot_sum((0.4, 0.2, 0.4),\n",
    "                        (train['xgb'], train['cat'], train['lgb']))\n",
    "test['mix1'] = dot_sum((0.4, 0.2, 0.4),\n",
    "                        (test['xgb'], test['cat'], test['lgb']))\n",
    "\n",
    "train['mix2'] = dot_sum((0.34, 0.33, 0.33),\n",
    "                        (train['xgb'], train['cat'], train['lgb']))\n",
    "test['mix2'] = dot_sum((0.34, 0.33, 0.33),\n",
    "                        (test['xgb'], test['cat'], test['lgb']))\n",
    "\n",
    "for model_name in ('mix1', 'mix2', 'xgb', 'lgb', 'cat'):\n",
    "    print(\"RMSE model {}: {}\".format(model_name, score(train, train[model_name])))"
   ]
  },
  {
   "cell_type": "markdown",
   "metadata": {},
   "source": [
    "# Submission"
   ]
  },
  {
   "cell_type": "code",
   "execution_count": 138,
   "metadata": {},
   "outputs": [
    {
     "name": "stdout",
     "output_type": "stream",
     "text": [
      "Generating submission for  mix1\n",
      "     id       revenue\n",
      "0  3001  1.368672e+07\n",
      "1  3002  1.982624e+06\n",
      "2  3003  6.682395e+06\n",
      "3  3004  1.622270e+06\n",
      "4  3005  1.295961e+06\n",
      "Generating submission for  mix2\n",
      "     id       revenue\n",
      "0  3001  1.128164e+07\n",
      "1  3002  1.974202e+06\n",
      "2  3003  6.500830e+06\n",
      "3  3004  1.861188e+06\n",
      "4  3005  1.201937e+06\n",
      "Generating submission for  xgb\n",
      "     id       revenue\n",
      "0  3001  1.618101e+07\n",
      "1  3002  1.465666e+06\n",
      "2  3003  6.553200e+06\n",
      "3  3004  1.252567e+06\n",
      "4  3005  1.109318e+06\n",
      "Generating submission for  lgb\n",
      "     id       revenue\n",
      "0  3001  2.089871e+07\n",
      "1  3002  2.691982e+06\n",
      "2  3003  7.402977e+06\n",
      "3  3004  1.374777e+06\n",
      "4  3005  1.893228e+06\n",
      "Generating submission for  cat\n",
      "     id       revenue\n",
      "0  3001  4.199963e+06\n",
      "1  3002  1.967830e+06\n",
      "2  3003  5.661623e+06\n",
      "3  3004  3.789212e+06\n",
      "4  3005  8.287842e+05\n"
     ]
    }
   ],
   "source": [
    "for model_name in ('mix1', 'mix2', 'xgb', 'lgb', 'cat'):\n",
    "    print(\"Generating submission for \", model_name)\n",
    "    test['revenue'] =  np.expm1(test[model_name])\n",
    "    test[['id','revenue']].to_csv(\n",
    "        'submission_{}.csv'.format(model_name),\n",
    "        index=False)\n",
    "    print(test[['id','revenue']].head())"
   ]
  },
  {
   "cell_type": "code",
   "execution_count": null,
   "metadata": {},
   "outputs": [],
   "source": []
  }
 ],
 "metadata": {
  "kernelspec": {
   "display_name": "Python 3",
   "language": "python",
   "name": "python3"
  },
  "language_info": {
   "codemirror_mode": {
    "name": "ipython",
    "version": 3
   },
   "file_extension": ".py",
   "mimetype": "text/x-python",
   "name": "python",
   "nbconvert_exporter": "python",
   "pygments_lexer": "ipython3",
   "version": "3.6.5"
  }
 },
 "nbformat": 4,
 "nbformat_minor": 2
}
