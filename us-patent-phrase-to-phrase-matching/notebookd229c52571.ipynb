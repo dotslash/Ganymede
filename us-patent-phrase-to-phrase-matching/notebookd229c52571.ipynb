{
 "cells": [
  {
   "cell_type": "markdown",
   "id": "9def29cf",
   "metadata": {
    "papermill": {
     "duration": 0.005912,
     "end_time": "2023-04-25T09:17:49.837693",
     "exception": false,
     "start_time": "2023-04-25T09:17:49.831781",
     "status": "completed"
    },
    "tags": []
   },
   "source": [
    "# About notebook\n",
    "\n",
    "This is pretty much a clone of https://www.kaggle.com/code/jhoward/getting-started-with-nlp-for-absolute-beginners. But the original notebook cannot be submitted for the competiotion because it does pip install and also downloads some pretrained model - ie. needs the internet. I took some learnings from https://www.kaggle.com/code/miwojc/getting-started-with-nlp-offline-version/notebook and was able to modify the notebook and get to a submittable notebook\n",
    "\n",
    "\n",
    "# Inputs\n",
    "1) competition data: If i tag the notebook to the competition, kaggle automatically downloads the input,out data to the environment where the notebook runs\n",
    "2) pre trained model: I randomly found someone created a dataset for debertav3small - pretrained model. Later I have more details on how the model is used\n",
    "\n",
    "\n"
   ]
  },
  {
   "cell_type": "markdown",
   "id": "71c56e3d",
   "metadata": {
    "papermill": {
     "duration": 0.004511,
     "end_time": "2023-04-25T09:17:49.847519",
     "exception": false,
     "start_time": "2023-04-25T09:17:49.843008",
     "status": "completed"
    },
    "tags": []
   },
   "source": [
    "Load pretrained debertav3small model and create a tokenizer with it. \n"
   ]
  },
  {
   "cell_type": "code",
   "execution_count": 1,
   "id": "7192540f",
   "metadata": {
    "execution": {
     "iopub.execute_input": "2023-04-25T09:17:49.859314Z",
     "iopub.status.busy": "2023-04-25T09:17:49.858197Z",
     "iopub.status.idle": "2023-04-25T09:17:49.870423Z",
     "shell.execute_reply": "2023-04-25T09:17:49.869455Z"
    },
    "papermill": {
     "duration": 0.020238,
     "end_time": "2023-04-25T09:17:49.872669",
     "exception": false,
     "start_time": "2023-04-25T09:17:49.852431",
     "status": "completed"
    },
    "tags": []
   },
   "outputs": [],
   "source": [
    "import os\n",
    "# I get the following annoying warning all the time\n",
    "# huggingface/tokenizers: The current process just got forked, after parallelism has already been used. Disabling parallelism to avoid deadlocks...\n",
    "# To disable this warning, you can either:\n",
    "#  - Avoid using `tokenizers` before the fork if possible\n",
    "#  - Explicitly set the environment variable TOKENIZERS_PARALLELISM=(true | false)\n",
    "os.environ['TOKENIZERS_PARALLELISM'] = 'false'"
   ]
  },
  {
   "cell_type": "code",
   "execution_count": 2,
   "id": "a71d054c",
   "metadata": {
    "execution": {
     "iopub.execute_input": "2023-04-25T09:17:49.884270Z",
     "iopub.status.busy": "2023-04-25T09:17:49.883370Z",
     "iopub.status.idle": "2023-04-25T09:17:54.551584Z",
     "shell.execute_reply": "2023-04-25T09:17:54.550568Z"
    },
    "papermill": {
     "duration": 4.67654,
     "end_time": "2023-04-25T09:17:54.554060",
     "exception": false,
     "start_time": "2023-04-25T09:17:49.877520",
     "status": "completed"
    },
    "tags": []
   },
   "outputs": [
    {
     "name": "stderr",
     "output_type": "stream",
     "text": [
      "Special tokens have been added in the vocabulary, make sure the associated word embeddings are fine-tuned or trained.\n",
      "/opt/conda/lib/python3.7/site-packages/transformers/convert_slow_tokenizer.py:447: UserWarning: The sentencepiece tokenizer that you are converting to a fast tokenizer uses the byte fallback option which is not implemented in the fast tokenizers. In practice this means that the fast version of the tokenizer can produce unknown tokens whereas the sentencepiece version would have converted these unknown tokens into a sequence of byte tokens matching the original piece of text.\n",
      "  \"The sentencepiece tokenizer that you are converting to a fast tokenizer uses the byte fallback option\"\n",
      "Special tokens have been added in the vocabulary, make sure the associated word embeddings are fine-tuned or trained.\n"
     ]
    }
   ],
   "source": [
    "import numpy as np, matplotlib.pyplot as plt\n",
    "\n",
    "from transformers import AutoModelForSequenceClassification,AutoTokenizer\n",
    "# model_nm = 'microsoft/deberta-v3-small'\n",
    "# model_nm = '../input/debertav3small/checkpoint'\n",
    "model_nm = '../input/deberta-v3-large'\n",
    "tokz = AutoTokenizer.from_pretrained(model_nm)"
   ]
  },
  {
   "cell_type": "markdown",
   "id": "0a541d45",
   "metadata": {
    "papermill": {
     "duration": 0.004694,
     "end_time": "2023-04-25T09:17:54.563669",
     "exception": false,
     "start_time": "2023-04-25T09:17:54.558975",
     "status": "completed"
    },
    "tags": []
   },
   "source": [
    "tokz.tokenize(string)\n",
    "* tokenizes the sentence into words\n",
    "* beginining of each word is prefixed by ▁ in the tokenized word\n",
    "* unknown words are broken into smaller parts. See the output of the below snippet\n",
    "\n",
    "tokx(string)\n",
    "* tokenizes the sentence into words and returns a vector of integer ids that can be used for nlp training/inference"
   ]
  },
  {
   "cell_type": "code",
   "execution_count": 3,
   "id": "67d81b6a",
   "metadata": {
    "execution": {
     "iopub.execute_input": "2023-04-25T09:17:54.574618Z",
     "iopub.status.busy": "2023-04-25T09:17:54.574147Z",
     "iopub.status.idle": "2023-04-25T09:17:54.583966Z",
     "shell.execute_reply": "2023-04-25T09:17:54.582942Z"
    },
    "papermill": {
     "duration": 0.017906,
     "end_time": "2023-04-25T09:17:54.586223",
     "exception": false,
     "start_time": "2023-04-25T09:17:54.568317",
     "status": "completed"
    },
    "tags": []
   },
   "outputs": [
    {
     "name": "stdout",
     "output_type": "stream",
     "text": [
      "['▁today', \"'\", 's', '▁a', '▁nice', '▁day']\n",
      "{'input_ids': [1, 561, 280, 268, 266, 1085, 406, 2], 'token_type_ids': [0, 0, 0, 0, 0, 0, 0, 0], 'attention_mask': [1, 1, 1, 1, 1, 1, 1, 1]}\n"
     ]
    }
   ],
   "source": [
    "print(tokz.tokenize(\"today's a nice day\"))\n",
    "print(tokz(\"today's a nice day\"))"
   ]
  },
  {
   "cell_type": "markdown",
   "id": "39e88b17",
   "metadata": {
    "papermill": {
     "duration": 0.004542,
     "end_time": "2023-04-25T09:17:54.595556",
     "exception": false,
     "start_time": "2023-04-25T09:17:54.591014",
     "status": "completed"
    },
    "tags": []
   },
   "source": [
    "1. Import the kaggle training, eval datasets as pandas\n"
   ]
  },
  {
   "cell_type": "code",
   "execution_count": 4,
   "id": "a9c03759",
   "metadata": {
    "execution": {
     "iopub.execute_input": "2023-04-25T09:17:54.606682Z",
     "iopub.status.busy": "2023-04-25T09:17:54.605962Z",
     "iopub.status.idle": "2023-04-25T09:17:54.711338Z",
     "shell.execute_reply": "2023-04-25T09:17:54.710291Z"
    },
    "papermill": {
     "duration": 0.113875,
     "end_time": "2023-04-25T09:17:54.714120",
     "exception": false,
     "start_time": "2023-04-25T09:17:54.600245",
     "status": "completed"
    },
    "tags": []
   },
   "outputs": [],
   "source": [
    "from pathlib import Path\n",
    "import pandas as pd\n",
    "\n",
    "dataset_path = Path(\"/kaggle/input/us-patent-phrase-to-phrase-matching\")\n",
    "full_train_df = pd.read_csv(f'{dataset_path}/train.csv')\n",
    "eval_df = pd.read_csv(dataset_path/'test.csv')"
   ]
  },
  {
   "cell_type": "code",
   "execution_count": 5,
   "id": "9ecf35e3",
   "metadata": {
    "execution": {
     "iopub.execute_input": "2023-04-25T09:17:54.725317Z",
     "iopub.status.busy": "2023-04-25T09:17:54.724990Z",
     "iopub.status.idle": "2023-04-25T09:17:54.749713Z",
     "shell.execute_reply": "2023-04-25T09:17:54.748298Z"
    },
    "papermill": {
     "duration": 0.033723,
     "end_time": "2023-04-25T09:17:54.752814",
     "exception": false,
     "start_time": "2023-04-25T09:17:54.719091",
     "status": "completed"
    },
    "tags": []
   },
   "outputs": [
    {
     "data": {
      "text/html": [
       "<div>\n",
       "<style scoped>\n",
       "    .dataframe tbody tr th:only-of-type {\n",
       "        vertical-align: middle;\n",
       "    }\n",
       "\n",
       "    .dataframe tbody tr th {\n",
       "        vertical-align: top;\n",
       "    }\n",
       "\n",
       "    .dataframe thead th {\n",
       "        text-align: right;\n",
       "    }\n",
       "</style>\n",
       "<table border=\"1\" class=\"dataframe\">\n",
       "  <thead>\n",
       "    <tr style=\"text-align: right;\">\n",
       "      <th></th>\n",
       "      <th>id</th>\n",
       "      <th>anchor</th>\n",
       "      <th>target</th>\n",
       "      <th>context</th>\n",
       "      <th>score</th>\n",
       "    </tr>\n",
       "  </thead>\n",
       "  <tbody>\n",
       "    <tr>\n",
       "      <th>0</th>\n",
       "      <td>37d61fd2272659b1</td>\n",
       "      <td>abatement</td>\n",
       "      <td>abatement of pollution</td>\n",
       "      <td>A47</td>\n",
       "      <td>0.50</td>\n",
       "    </tr>\n",
       "    <tr>\n",
       "      <th>1</th>\n",
       "      <td>7b9652b17b68b7a4</td>\n",
       "      <td>abatement</td>\n",
       "      <td>act of abating</td>\n",
       "      <td>A47</td>\n",
       "      <td>0.75</td>\n",
       "    </tr>\n",
       "    <tr>\n",
       "      <th>2</th>\n",
       "      <td>36d72442aefd8232</td>\n",
       "      <td>abatement</td>\n",
       "      <td>active catalyst</td>\n",
       "      <td>A47</td>\n",
       "      <td>0.25</td>\n",
       "    </tr>\n",
       "    <tr>\n",
       "      <th>3</th>\n",
       "      <td>5296b0c19e1ce60e</td>\n",
       "      <td>abatement</td>\n",
       "      <td>eliminating process</td>\n",
       "      <td>A47</td>\n",
       "      <td>0.50</td>\n",
       "    </tr>\n",
       "    <tr>\n",
       "      <th>4</th>\n",
       "      <td>54c1e3b9184cb5b6</td>\n",
       "      <td>abatement</td>\n",
       "      <td>forest region</td>\n",
       "      <td>A47</td>\n",
       "      <td>0.00</td>\n",
       "    </tr>\n",
       "    <tr>\n",
       "      <th>...</th>\n",
       "      <td>...</td>\n",
       "      <td>...</td>\n",
       "      <td>...</td>\n",
       "      <td>...</td>\n",
       "      <td>...</td>\n",
       "    </tr>\n",
       "    <tr>\n",
       "      <th>36468</th>\n",
       "      <td>8e1386cbefd7f245</td>\n",
       "      <td>wood article</td>\n",
       "      <td>wooden article</td>\n",
       "      <td>B44</td>\n",
       "      <td>1.00</td>\n",
       "    </tr>\n",
       "    <tr>\n",
       "      <th>36469</th>\n",
       "      <td>42d9e032d1cd3242</td>\n",
       "      <td>wood article</td>\n",
       "      <td>wooden box</td>\n",
       "      <td>B44</td>\n",
       "      <td>0.50</td>\n",
       "    </tr>\n",
       "    <tr>\n",
       "      <th>36470</th>\n",
       "      <td>208654ccb9e14fa3</td>\n",
       "      <td>wood article</td>\n",
       "      <td>wooden handle</td>\n",
       "      <td>B44</td>\n",
       "      <td>0.50</td>\n",
       "    </tr>\n",
       "    <tr>\n",
       "      <th>36471</th>\n",
       "      <td>756ec035e694722b</td>\n",
       "      <td>wood article</td>\n",
       "      <td>wooden material</td>\n",
       "      <td>B44</td>\n",
       "      <td>0.75</td>\n",
       "    </tr>\n",
       "    <tr>\n",
       "      <th>36472</th>\n",
       "      <td>8d135da0b55b8c88</td>\n",
       "      <td>wood article</td>\n",
       "      <td>wooden substrate</td>\n",
       "      <td>B44</td>\n",
       "      <td>0.50</td>\n",
       "    </tr>\n",
       "  </tbody>\n",
       "</table>\n",
       "<p>36473 rows × 5 columns</p>\n",
       "</div>"
      ],
      "text/plain": [
       "                     id        anchor                  target context  score\n",
       "0      37d61fd2272659b1     abatement  abatement of pollution     A47   0.50\n",
       "1      7b9652b17b68b7a4     abatement          act of abating     A47   0.75\n",
       "2      36d72442aefd8232     abatement         active catalyst     A47   0.25\n",
       "3      5296b0c19e1ce60e     abatement     eliminating process     A47   0.50\n",
       "4      54c1e3b9184cb5b6     abatement           forest region     A47   0.00\n",
       "...                 ...           ...                     ...     ...    ...\n",
       "36468  8e1386cbefd7f245  wood article          wooden article     B44   1.00\n",
       "36469  42d9e032d1cd3242  wood article              wooden box     B44   0.50\n",
       "36470  208654ccb9e14fa3  wood article           wooden handle     B44   0.50\n",
       "36471  756ec035e694722b  wood article         wooden material     B44   0.75\n",
       "36472  8d135da0b55b8c88  wood article        wooden substrate     B44   0.50\n",
       "\n",
       "[36473 rows x 5 columns]"
      ]
     },
     "execution_count": 5,
     "metadata": {},
     "output_type": "execute_result"
    }
   ],
   "source": [
    "full_train_df"
   ]
  },
  {
   "cell_type": "code",
   "execution_count": 6,
   "id": "c99dded9",
   "metadata": {
    "execution": {
     "iopub.execute_input": "2023-04-25T09:17:54.766626Z",
     "iopub.status.busy": "2023-04-25T09:17:54.766012Z",
     "iopub.status.idle": "2023-04-25T09:17:54.825777Z",
     "shell.execute_reply": "2023-04-25T09:17:54.824680Z"
    },
    "papermill": {
     "duration": 0.069784,
     "end_time": "2023-04-25T09:17:54.828193",
     "exception": false,
     "start_time": "2023-04-25T09:17:54.758409",
     "status": "completed"
    },
    "tags": []
   },
   "outputs": [
    {
     "data": {
      "text/html": [
       "<div>\n",
       "<style scoped>\n",
       "    .dataframe tbody tr th:only-of-type {\n",
       "        vertical-align: middle;\n",
       "    }\n",
       "\n",
       "    .dataframe tbody tr th {\n",
       "        vertical-align: top;\n",
       "    }\n",
       "\n",
       "    .dataframe thead th {\n",
       "        text-align: right;\n",
       "    }\n",
       "</style>\n",
       "<table border=\"1\" class=\"dataframe\">\n",
       "  <thead>\n",
       "    <tr style=\"text-align: right;\">\n",
       "      <th></th>\n",
       "      <th>id</th>\n",
       "      <th>anchor</th>\n",
       "      <th>target</th>\n",
       "      <th>context</th>\n",
       "    </tr>\n",
       "  </thead>\n",
       "  <tbody>\n",
       "    <tr>\n",
       "      <th>count</th>\n",
       "      <td>36473</td>\n",
       "      <td>36473</td>\n",
       "      <td>36473</td>\n",
       "      <td>36473</td>\n",
       "    </tr>\n",
       "    <tr>\n",
       "      <th>unique</th>\n",
       "      <td>36473</td>\n",
       "      <td>733</td>\n",
       "      <td>29340</td>\n",
       "      <td>106</td>\n",
       "    </tr>\n",
       "    <tr>\n",
       "      <th>top</th>\n",
       "      <td>37d61fd2272659b1</td>\n",
       "      <td>component composite coating</td>\n",
       "      <td>composition</td>\n",
       "      <td>H01</td>\n",
       "    </tr>\n",
       "    <tr>\n",
       "      <th>freq</th>\n",
       "      <td>1</td>\n",
       "      <td>152</td>\n",
       "      <td>24</td>\n",
       "      <td>2186</td>\n",
       "    </tr>\n",
       "  </tbody>\n",
       "</table>\n",
       "</div>"
      ],
      "text/plain": [
       "                      id                       anchor       target context\n",
       "count              36473                        36473        36473   36473\n",
       "unique             36473                          733        29340     106\n",
       "top     37d61fd2272659b1  component composite coating  composition     H01\n",
       "freq                   1                          152           24    2186"
      ]
     },
     "execution_count": 6,
     "metadata": {},
     "output_type": "execute_result"
    }
   ],
   "source": [
    "full_train_df.describe(include='object')"
   ]
  },
  {
   "cell_type": "markdown",
   "id": "cf16e01a",
   "metadata": {
    "papermill": {
     "duration": 0.005324,
     "end_time": "2023-04-25T09:17:54.838735",
     "exception": false,
     "start_time": "2023-04-25T09:17:54.833411",
     "status": "completed"
    },
    "tags": []
   },
   "source": [
    "Debug: What is `include=` in describe\n",
    "* what all types of objects should the summary be described for\n",
    "* default is numeric types"
   ]
  },
  {
   "cell_type": "code",
   "execution_count": 7,
   "id": "e1b72d76",
   "metadata": {
    "execution": {
     "iopub.execute_input": "2023-04-25T09:17:54.850663Z",
     "iopub.status.busy": "2023-04-25T09:17:54.850376Z",
     "iopub.status.idle": "2023-04-25T09:17:54.901519Z",
     "shell.execute_reply": "2023-04-25T09:17:54.900351Z"
    },
    "papermill": {
     "duration": 0.059773,
     "end_time": "2023-04-25T09:17:54.904173",
     "exception": false,
     "start_time": "2023-04-25T09:17:54.844400",
     "status": "completed"
    },
    "tags": []
   },
   "outputs": [
    {
     "data": {
      "text/html": [
       "<div>\n",
       "<style scoped>\n",
       "    .dataframe tbody tr th:only-of-type {\n",
       "        vertical-align: middle;\n",
       "    }\n",
       "\n",
       "    .dataframe tbody tr th {\n",
       "        vertical-align: top;\n",
       "    }\n",
       "\n",
       "    .dataframe thead th {\n",
       "        text-align: right;\n",
       "    }\n",
       "</style>\n",
       "<table border=\"1\" class=\"dataframe\">\n",
       "  <thead>\n",
       "    <tr style=\"text-align: right;\">\n",
       "      <th></th>\n",
       "      <th>id</th>\n",
       "      <th>anchor</th>\n",
       "      <th>target</th>\n",
       "      <th>context</th>\n",
       "      <th>score</th>\n",
       "    </tr>\n",
       "  </thead>\n",
       "  <tbody>\n",
       "    <tr>\n",
       "      <th>count</th>\n",
       "      <td>36473</td>\n",
       "      <td>36473</td>\n",
       "      <td>36473</td>\n",
       "      <td>36473</td>\n",
       "      <td>36473.000000</td>\n",
       "    </tr>\n",
       "    <tr>\n",
       "      <th>unique</th>\n",
       "      <td>36473</td>\n",
       "      <td>733</td>\n",
       "      <td>29340</td>\n",
       "      <td>106</td>\n",
       "      <td>NaN</td>\n",
       "    </tr>\n",
       "    <tr>\n",
       "      <th>top</th>\n",
       "      <td>37d61fd2272659b1</td>\n",
       "      <td>component composite coating</td>\n",
       "      <td>composition</td>\n",
       "      <td>H01</td>\n",
       "      <td>NaN</td>\n",
       "    </tr>\n",
       "    <tr>\n",
       "      <th>freq</th>\n",
       "      <td>1</td>\n",
       "      <td>152</td>\n",
       "      <td>24</td>\n",
       "      <td>2186</td>\n",
       "      <td>NaN</td>\n",
       "    </tr>\n",
       "    <tr>\n",
       "      <th>mean</th>\n",
       "      <td>NaN</td>\n",
       "      <td>NaN</td>\n",
       "      <td>NaN</td>\n",
       "      <td>NaN</td>\n",
       "      <td>0.362062</td>\n",
       "    </tr>\n",
       "    <tr>\n",
       "      <th>std</th>\n",
       "      <td>NaN</td>\n",
       "      <td>NaN</td>\n",
       "      <td>NaN</td>\n",
       "      <td>NaN</td>\n",
       "      <td>0.258335</td>\n",
       "    </tr>\n",
       "    <tr>\n",
       "      <th>min</th>\n",
       "      <td>NaN</td>\n",
       "      <td>NaN</td>\n",
       "      <td>NaN</td>\n",
       "      <td>NaN</td>\n",
       "      <td>0.000000</td>\n",
       "    </tr>\n",
       "    <tr>\n",
       "      <th>25%</th>\n",
       "      <td>NaN</td>\n",
       "      <td>NaN</td>\n",
       "      <td>NaN</td>\n",
       "      <td>NaN</td>\n",
       "      <td>0.250000</td>\n",
       "    </tr>\n",
       "    <tr>\n",
       "      <th>50%</th>\n",
       "      <td>NaN</td>\n",
       "      <td>NaN</td>\n",
       "      <td>NaN</td>\n",
       "      <td>NaN</td>\n",
       "      <td>0.250000</td>\n",
       "    </tr>\n",
       "    <tr>\n",
       "      <th>75%</th>\n",
       "      <td>NaN</td>\n",
       "      <td>NaN</td>\n",
       "      <td>NaN</td>\n",
       "      <td>NaN</td>\n",
       "      <td>0.500000</td>\n",
       "    </tr>\n",
       "    <tr>\n",
       "      <th>max</th>\n",
       "      <td>NaN</td>\n",
       "      <td>NaN</td>\n",
       "      <td>NaN</td>\n",
       "      <td>NaN</td>\n",
       "      <td>1.000000</td>\n",
       "    </tr>\n",
       "  </tbody>\n",
       "</table>\n",
       "</div>"
      ],
      "text/plain": [
       "                      id                       anchor       target context  \\\n",
       "count              36473                        36473        36473   36473   \n",
       "unique             36473                          733        29340     106   \n",
       "top     37d61fd2272659b1  component composite coating  composition     H01   \n",
       "freq                   1                          152           24    2186   \n",
       "mean                 NaN                          NaN          NaN     NaN   \n",
       "std                  NaN                          NaN          NaN     NaN   \n",
       "min                  NaN                          NaN          NaN     NaN   \n",
       "25%                  NaN                          NaN          NaN     NaN   \n",
       "50%                  NaN                          NaN          NaN     NaN   \n",
       "75%                  NaN                          NaN          NaN     NaN   \n",
       "max                  NaN                          NaN          NaN     NaN   \n",
       "\n",
       "               score  \n",
       "count   36473.000000  \n",
       "unique           NaN  \n",
       "top              NaN  \n",
       "freq             NaN  \n",
       "mean        0.362062  \n",
       "std         0.258335  \n",
       "min         0.000000  \n",
       "25%         0.250000  \n",
       "50%         0.250000  \n",
       "75%         0.500000  \n",
       "max         1.000000  "
      ]
     },
     "execution_count": 7,
     "metadata": {},
     "output_type": "execute_result"
    }
   ],
   "source": [
    "full_train_df.describe(include='all')"
   ]
  },
  {
   "cell_type": "markdown",
   "id": "003083cb",
   "metadata": {
    "papermill": {
     "duration": 0.006503,
     "end_time": "2023-04-25T09:17:54.916408",
     "exception": false,
     "start_time": "2023-04-25T09:17:54.909905",
     "status": "completed"
    },
    "tags": []
   },
   "source": [
    "Tokenization and creating the input\n",
    "* we create a new input column that is `\"TEXT1: <context>; TEXT2: <target>; ANC1: <anchor>\n",
    "* we then convert to a Dataset type and tokenize this to numbers\n",
    "* TODO: what is the impact of calling the placeholders TEXT1, TEXT2? The anchor is an opaque string that indicates the patent subject. Would it make sense to leverage it somehow? Why/Why not?\n",
    "\n",
    "datasets.Dataset is the rage\n",
    "* It seems the preferred way to deal with \"datasets\" is this library called datasets. \n",
    "* We convert the dataframes into Dataset type.\n",
    "* We rename the output label from score to label because thats what the transformers library's Trainer class likes.\n",
    "* Then also create a train-test split. Apparently random is not great. Quoting the original notebook from which this is taken\n",
    "> In practice, a random split like we've used here might not be a good idea -- here's what Dr Rachel Thomas has to say about it:\n",
    ">\n",
    "> \"One of the most likely culprits for this disconnect between results in development vs results in production is a poorly chosen validation set (or even worse, no validation set at all). Depending on the nature of your data, choosing a validation set can be the most important step. Although sklearn offers a train_test_split method, this method takes a random subset of the data, which is a poor choice for many real-world problems.\"\n",
    ">\n",
    "> I strongly recommend reading her article [How (and why) to create a good validation set](https://www.fast.ai/2017/11/13/validation-sets/) to more fully understand this critical topic.\n"
   ]
  },
  {
   "cell_type": "code",
   "execution_count": 8,
   "id": "41ffaa6d",
   "metadata": {
    "execution": {
     "iopub.execute_input": "2023-04-25T09:17:54.929913Z",
     "iopub.status.busy": "2023-04-25T09:17:54.929196Z",
     "iopub.status.idle": "2023-04-25T09:17:58.420193Z",
     "shell.execute_reply": "2023-04-25T09:17:58.419216Z"
    },
    "papermill": {
     "duration": 3.49981,
     "end_time": "2023-04-25T09:17:58.422506",
     "exception": false,
     "start_time": "2023-04-25T09:17:54.922696",
     "status": "completed"
    },
    "tags": []
   },
   "outputs": [
    {
     "data": {
      "application/vnd.jupyter.widget-view+json": {
       "model_id": "3bfca5adc5f64f499638bf9c33d1fbdd",
       "version_major": 2,
       "version_minor": 0
      },
      "text/plain": [
       "  0%|          | 0/37 [00:00<?, ?ba/s]"
      ]
     },
     "metadata": {},
     "output_type": "display_data"
    },
    {
     "data": {
      "application/vnd.jupyter.widget-view+json": {
       "model_id": "f0415ab9e9834a8f9486bb13797202e1",
       "version_major": 2,
       "version_minor": 0
      },
      "text/plain": [
       "  0%|          | 0/1 [00:00<?, ?ba/s]"
      ]
     },
     "metadata": {},
     "output_type": "display_data"
    }
   ],
   "source": [
    "from datasets import Dataset,DatasetDict\n",
    "\n",
    "def create_ds(df):\n",
    "    def tok_func(x): return tokz(x[\"input\"])\n",
    "    df['input'] = 'TEXT1: ' + df.context + '; TEXT2: ' + df.target + '; ANC1: ' + df.anchor\n",
    "    ds = Dataset.from_pandas(df).map(tok_func, batched=True)\n",
    "    if 'score' in df.columns:\n",
    "        # transformers library wants the output label to be label and not score\n",
    "        # score column is there only for the train set and not eval set. So do a check before\n",
    "        # the rename\n",
    "        ds = ds.rename_column('score', 'label')\n",
    "    return ds\n",
    "\n",
    "\n",
    "full_train_ds = create_ds(full_train_df)\n",
    "eval_ds = create_ds(eval_df)\n",
    "train_test_split = full_train_ds.train_test_split(0.25, seed=42)\n"
   ]
  },
  {
   "cell_type": "markdown",
   "id": "6584b3cd",
   "metadata": {
    "papermill": {
     "duration": 0.005891,
     "end_time": "2023-04-25T09:17:58.434394",
     "exception": false,
     "start_time": "2023-04-25T09:17:58.428503",
     "status": "completed"
    },
    "tags": []
   },
   "source": [
    "Correlation: While training or while submission the we need to know the accuracy. define a correlation function to pass to the model the function that emits the accuracy of the predictions"
   ]
  },
  {
   "cell_type": "code",
   "execution_count": 9,
   "id": "e77803db",
   "metadata": {
    "execution": {
     "iopub.execute_input": "2023-04-25T09:17:58.447829Z",
     "iopub.status.busy": "2023-04-25T09:17:58.447377Z",
     "iopub.status.idle": "2023-04-25T09:17:58.452766Z",
     "shell.execute_reply": "2023-04-25T09:17:58.451657Z"
    },
    "papermill": {
     "duration": 0.014354,
     "end_time": "2023-04-25T09:17:58.454926",
     "exception": false,
     "start_time": "2023-04-25T09:17:58.440572",
     "status": "completed"
    },
    "tags": []
   },
   "outputs": [],
   "source": [
    "def corr(x,y): \n",
    "    return np.corrcoef(x,y)[0][1]\n",
    "\n",
    "def corr_d(eval_pred): \n",
    "    return {'pearson': corr(*eval_pred)}"
   ]
  },
  {
   "cell_type": "code",
   "execution_count": 10,
   "id": "273ca3c2",
   "metadata": {
    "execution": {
     "iopub.execute_input": "2023-04-25T09:17:58.468154Z",
     "iopub.status.busy": "2023-04-25T09:17:58.467247Z",
     "iopub.status.idle": "2023-04-25T09:18:16.319398Z",
     "shell.execute_reply": "2023-04-25T09:18:16.317659Z"
    },
    "papermill": {
     "duration": 17.86162,
     "end_time": "2023-04-25T09:18:16.322325",
     "exception": false,
     "start_time": "2023-04-25T09:17:58.460705",
     "status": "completed"
    },
    "tags": []
   },
   "outputs": [],
   "source": [
    "from transformers import TrainingArguments,Trainer\n",
    "\n",
    "# TODO: Learn how to do hyperparam search/tuning\n",
    "\n",
    "\n",
    "# bs=128: We do gradient descent on 128 samples at a time.\n",
    "# epochs=4: The model is trained with the full dataset 4 times\n",
    "# So if we have 1024 samples, we do gradient descent for 128 samples at a time\n",
    "# and 4 times => 32 gradient descents\n",
    "bs = 32\n",
    "epochs = 4 # TODO: should this be 8? What is the right number? \n",
    "# TODO: I dont know what is a good value here for learning rate. What is too small? What is too large?\n",
    "lr = 8e-5\n",
    "\n",
    "args = TrainingArguments(\n",
    "    'outputs', \n",
    "    learning_rate=lr, \n",
    "    warmup_ratio=0.1, # TODO: why?\n",
    "    # IIUC to avoid overfitting we cut down the learning rate using some cosine formula. \n",
    "    # learning_rate(epoch_number) = (lr/2)(1+cos(pi*epoch_number/total_epochs)). So the \n",
    "    # learning rate keeps getting smaller\n",
    "    # TODO: why all this cosine stuff. Why not lr*(1-(epoch_number/total_epochs))?\n",
    "    lr_scheduler_type='cosine', # TODO: why?\n",
    "    fp16=True,\n",
    "    # model is evaluated after each epoch. This makes more sense if we have hyper param tuning i think\n",
    "    # E.g we can have some settings to early stop the training if its degrading\n",
    "    evaluation_strategy=\"epoch\",\n",
    "    per_device_train_batch_size=bs,\n",
    "    per_device_eval_batch_size=bs*2, # TODO: why?\n",
    "    num_train_epochs=epochs,# TODO: why?\n",
    "    # TODO: why? I vaguely remember that larger weights imply that models are more \"decisive\"\n",
    "    # and often predict strong values E.g sigmoid function output is between 0 to 1. large weights result\n",
    "    # in sigmoid(f(X)) being very close to 0 or very close to 1. IOW: likely change of overfitting\n",
    "    # So \"artificially\" make the weights smaller as we train with more and more data.\n",
    "    # TODO: I think the dataset is pretty small \"here\" and we have \"only\" 4 epochs. So is that relevant?\n",
    "    weight_decay=0.01,\n",
    "    report_to='none'\n",
    ")"
   ]
  },
  {
   "cell_type": "markdown",
   "id": "2ed84895",
   "metadata": {
    "papermill": {
     "duration": 0.005708,
     "end_time": "2023-04-25T09:18:16.334153",
     "exception": false,
     "start_time": "2023-04-25T09:18:16.328445",
     "status": "completed"
    },
    "tags": []
   },
   "source": [
    "Load the sequence classification model and train"
   ]
  },
  {
   "cell_type": "code",
   "execution_count": 11,
   "id": "d9ae180e",
   "metadata": {
    "execution": {
     "iopub.execute_input": "2023-04-25T09:18:16.346807Z",
     "iopub.status.busy": "2023-04-25T09:18:16.346468Z",
     "iopub.status.idle": "2023-04-25T09:18:39.199054Z",
     "shell.execute_reply": "2023-04-25T09:18:39.197877Z"
    },
    "papermill": {
     "duration": 22.861858,
     "end_time": "2023-04-25T09:18:39.201614",
     "exception": false,
     "start_time": "2023-04-25T09:18:16.339756",
     "status": "completed"
    },
    "tags": []
   },
   "outputs": [
    {
     "name": "stderr",
     "output_type": "stream",
     "text": [
      "Some weights of the model checkpoint at ../input/deberta-v3-large were not used when initializing DebertaV2ForSequenceClassification: ['lm_predictions.lm_head.dense.weight', 'mask_predictions.LayerNorm.bias', 'lm_predictions.lm_head.bias', 'lm_predictions.lm_head.dense.bias', 'mask_predictions.classifier.weight', 'mask_predictions.classifier.bias', 'lm_predictions.lm_head.LayerNorm.weight', 'mask_predictions.dense.weight', 'mask_predictions.dense.bias', 'lm_predictions.lm_head.LayerNorm.bias', 'mask_predictions.LayerNorm.weight']\n",
      "- This IS expected if you are initializing DebertaV2ForSequenceClassification from the checkpoint of a model trained on another task or with another architecture (e.g. initializing a BertForSequenceClassification model from a BertForPreTraining model).\n",
      "- This IS NOT expected if you are initializing DebertaV2ForSequenceClassification from the checkpoint of a model that you expect to be exactly identical (initializing a BertForSequenceClassification model from a BertForSequenceClassification model).\n",
      "Some weights of DebertaV2ForSequenceClassification were not initialized from the model checkpoint at ../input/deberta-v3-large and are newly initialized: ['pooler.dense.bias', 'pooler.dense.weight', 'classifier.weight', 'classifier.bias']\n",
      "You should probably TRAIN this model on a down-stream task to be able to use it for predictions and inference.\n"
     ]
    }
   ],
   "source": [
    "model = AutoModelForSequenceClassification.from_pretrained(model_nm, num_labels=1)\n",
    "\n",
    "trainer = Trainer(\n",
    "    model, \n",
    "    args, \n",
    "    train_dataset=train_test_split['train'], \n",
    "    eval_dataset=train_test_split['test'],\n",
    "    tokenizer=tokz, \n",
    "    compute_metrics=corr_d\n",
    ")"
   ]
  },
  {
   "cell_type": "code",
   "execution_count": 12,
   "id": "8a00207b",
   "metadata": {
    "execution": {
     "iopub.execute_input": "2023-04-25T09:18:39.216102Z",
     "iopub.status.busy": "2023-04-25T09:18:39.215794Z",
     "iopub.status.idle": "2023-04-25T09:47:31.431260Z",
     "shell.execute_reply": "2023-04-25T09:47:31.430325Z"
    },
    "papermill": {
     "duration": 1732.225159,
     "end_time": "2023-04-25T09:47:31.433481",
     "exception": false,
     "start_time": "2023-04-25T09:18:39.208322",
     "status": "completed"
    },
    "tags": []
   },
   "outputs": [
    {
     "name": "stderr",
     "output_type": "stream",
     "text": [
      "/opt/conda/lib/python3.7/site-packages/transformers/optimization.py:395: FutureWarning: This implementation of AdamW is deprecated and will be removed in a future version. Use the PyTorch implementation torch.optim.AdamW instead, or set `no_deprecation_warning=True` to disable this warning\n",
      "  FutureWarning,\n",
      "You're using a DebertaV2TokenizerFast tokenizer. Please note that with a fast tokenizer, using the `__call__` method is faster than using a method to encode the text followed by a call to the `pad` method to get a padded encoding.\n",
      "/opt/conda/lib/python3.7/site-packages/torch/nn/parallel/_functions.py:68: UserWarning: Was asked to gather along dimension 0, but all input tensors were scalars; will instead unsqueeze and return a vector.\n",
      "  warnings.warn('Was asked to gather along dimension 0, but all '\n"
     ]
    },
    {
     "data": {
      "text/html": [
       "\n",
       "    <div>\n",
       "      \n",
       "      <progress value='1712' max='1712' style='width:300px; height:20px; vertical-align: middle;'></progress>\n",
       "      [1712/1712 28:45, Epoch 4/4]\n",
       "    </div>\n",
       "    <table border=\"1\" class=\"dataframe\">\n",
       "  <thead>\n",
       " <tr style=\"text-align: left;\">\n",
       "      <th>Epoch</th>\n",
       "      <th>Training Loss</th>\n",
       "      <th>Validation Loss</th>\n",
       "      <th>Pearson</th>\n",
       "    </tr>\n",
       "  </thead>\n",
       "  <tbody>\n",
       "    <tr>\n",
       "      <td>1</td>\n",
       "      <td>No log</td>\n",
       "      <td>0.026888</td>\n",
       "      <td>0.792787</td>\n",
       "    </tr>\n",
       "    <tr>\n",
       "      <td>2</td>\n",
       "      <td>0.043600</td>\n",
       "      <td>0.024938</td>\n",
       "      <td>0.830176</td>\n",
       "    </tr>\n",
       "    <tr>\n",
       "      <td>3</td>\n",
       "      <td>0.018800</td>\n",
       "      <td>0.020369</td>\n",
       "      <td>0.845814</td>\n",
       "    </tr>\n",
       "    <tr>\n",
       "      <td>4</td>\n",
       "      <td>0.010300</td>\n",
       "      <td>0.020019</td>\n",
       "      <td>0.847892</td>\n",
       "    </tr>\n",
       "  </tbody>\n",
       "</table><p>"
      ],
      "text/plain": [
       "<IPython.core.display.HTML object>"
      ]
     },
     "metadata": {},
     "output_type": "display_data"
    },
    {
     "name": "stderr",
     "output_type": "stream",
     "text": [
      "/opt/conda/lib/python3.7/site-packages/torch/nn/parallel/_functions.py:68: UserWarning: Was asked to gather along dimension 0, but all input tensors were scalars; will instead unsqueeze and return a vector.\n",
      "  warnings.warn('Was asked to gather along dimension 0, but all '\n",
      "/opt/conda/lib/python3.7/site-packages/torch/nn/parallel/_functions.py:68: UserWarning: Was asked to gather along dimension 0, but all input tensors were scalars; will instead unsqueeze and return a vector.\n",
      "  warnings.warn('Was asked to gather along dimension 0, but all '\n",
      "/opt/conda/lib/python3.7/site-packages/torch/nn/parallel/_functions.py:68: UserWarning: Was asked to gather along dimension 0, but all input tensors were scalars; will instead unsqueeze and return a vector.\n",
      "  warnings.warn('Was asked to gather along dimension 0, but all '\n"
     ]
    },
    {
     "data": {
      "text/plain": [
       "TrainOutput(global_step=1712, training_loss=0.022219586664828185, metrics={'train_runtime': 1732.1829, 'train_samples_per_second': 63.167, 'train_steps_per_second': 0.988, 'total_flos': 4841956735068972.0, 'train_loss': 0.022219586664828185, 'epoch': 4.0})"
      ]
     },
     "execution_count": 12,
     "metadata": {},
     "output_type": "execute_result"
    }
   ],
   "source": [
    "trainer.train()"
   ]
  },
  {
   "cell_type": "code",
   "execution_count": 13,
   "id": "722676aa",
   "metadata": {
    "execution": {
     "iopub.execute_input": "2023-04-25T09:47:31.448324Z",
     "iopub.status.busy": "2023-04-25T09:47:31.447268Z",
     "iopub.status.idle": "2023-04-25T09:47:31.816355Z",
     "shell.execute_reply": "2023-04-25T09:47:31.815390Z"
    },
    "papermill": {
     "duration": 0.378568,
     "end_time": "2023-04-25T09:47:31.818548",
     "exception": false,
     "start_time": "2023-04-25T09:47:31.439980",
     "status": "completed"
    },
    "tags": []
   },
   "outputs": [
    {
     "data": {
      "text/html": [],
      "text/plain": [
       "<IPython.core.display.HTML object>"
      ]
     },
     "metadata": {},
     "output_type": "display_data"
    },
    {
     "data": {
      "text/html": [
       "<div>\n",
       "<style scoped>\n",
       "    .dataframe tbody tr th:only-of-type {\n",
       "        vertical-align: middle;\n",
       "    }\n",
       "\n",
       "    .dataframe tbody tr th {\n",
       "        vertical-align: top;\n",
       "    }\n",
       "\n",
       "    .dataframe thead th {\n",
       "        text-align: right;\n",
       "    }\n",
       "</style>\n",
       "<table border=\"1\" class=\"dataframe\">\n",
       "  <thead>\n",
       "    <tr style=\"text-align: right;\">\n",
       "      <th></th>\n",
       "      <th>id</th>\n",
       "      <th>anchor</th>\n",
       "      <th>target</th>\n",
       "      <th>context</th>\n",
       "      <th>input</th>\n",
       "    </tr>\n",
       "  </thead>\n",
       "  <tbody>\n",
       "    <tr>\n",
       "      <th>0</th>\n",
       "      <td>4112d61851461f60</td>\n",
       "      <td>opc drum</td>\n",
       "      <td>inorganic photoconductor drum</td>\n",
       "      <td>G02</td>\n",
       "      <td>TEXT1: G02; TEXT2: inorganic photoconductor dr...</td>\n",
       "    </tr>\n",
       "    <tr>\n",
       "      <th>1</th>\n",
       "      <td>09e418c93a776564</td>\n",
       "      <td>adjust gas flow</td>\n",
       "      <td>altering gas flow</td>\n",
       "      <td>F23</td>\n",
       "      <td>TEXT1: F23; TEXT2: altering gas flow; ANC1: ad...</td>\n",
       "    </tr>\n",
       "    <tr>\n",
       "      <th>2</th>\n",
       "      <td>36baf228038e314b</td>\n",
       "      <td>lower trunnion</td>\n",
       "      <td>lower locating</td>\n",
       "      <td>B60</td>\n",
       "      <td>TEXT1: B60; TEXT2: lower locating; ANC1: lower...</td>\n",
       "    </tr>\n",
       "    <tr>\n",
       "      <th>3</th>\n",
       "      <td>1f37ead645e7f0c8</td>\n",
       "      <td>cap component</td>\n",
       "      <td>upper portion</td>\n",
       "      <td>D06</td>\n",
       "      <td>TEXT1: D06; TEXT2: upper portion; ANC1: cap co...</td>\n",
       "    </tr>\n",
       "    <tr>\n",
       "      <th>4</th>\n",
       "      <td>71a5b6ad068d531f</td>\n",
       "      <td>neural stimulation</td>\n",
       "      <td>artificial neural network</td>\n",
       "      <td>H04</td>\n",
       "      <td>TEXT1: H04; TEXT2: artificial neural network; ...</td>\n",
       "    </tr>\n",
       "  </tbody>\n",
       "</table>\n",
       "</div>"
      ],
      "text/plain": [
       "                 id              anchor                         target  \\\n",
       "0  4112d61851461f60            opc drum  inorganic photoconductor drum   \n",
       "1  09e418c93a776564     adjust gas flow              altering gas flow   \n",
       "2  36baf228038e314b      lower trunnion                 lower locating   \n",
       "3  1f37ead645e7f0c8       cap component                  upper portion   \n",
       "4  71a5b6ad068d531f  neural stimulation      artificial neural network   \n",
       "\n",
       "  context                                              input  \n",
       "0     G02  TEXT1: G02; TEXT2: inorganic photoconductor dr...  \n",
       "1     F23  TEXT1: F23; TEXT2: altering gas flow; ANC1: ad...  \n",
       "2     B60  TEXT1: B60; TEXT2: lower locating; ANC1: lower...  \n",
       "3     D06  TEXT1: D06; TEXT2: upper portion; ANC1: cap co...  \n",
       "4     H04  TEXT1: H04; TEXT2: artificial neural network; ...  "
      ]
     },
     "execution_count": 13,
     "metadata": {},
     "output_type": "execute_result"
    }
   ],
   "source": [
    "preds = trainer.predict(eval_ds).predictions.astype(float)\n",
    "\n",
    "preds = np.clip(preds, 0, 1) # Outputs are not 0-1. So clip them\n",
    "eval_df.head()"
   ]
  },
  {
   "cell_type": "code",
   "execution_count": 14,
   "id": "2157fdeb",
   "metadata": {
    "execution": {
     "iopub.execute_input": "2023-04-25T09:47:31.833949Z",
     "iopub.status.busy": "2023-04-25T09:47:31.833662Z",
     "iopub.status.idle": "2023-04-25T09:47:31.839897Z",
     "shell.execute_reply": "2023-04-25T09:47:31.838899Z"
    },
    "papermill": {
     "duration": 0.016904,
     "end_time": "2023-04-25T09:47:31.842586",
     "exception": false,
     "start_time": "2023-04-25T09:47:31.825682",
     "status": "completed"
    },
    "tags": []
   },
   "outputs": [
    {
     "name": "stdout",
     "output_type": "stream",
     "text": [
      "[[0.54541016]\n",
      " [0.61181641]\n",
      " [0.49731445]\n",
      " [0.20507812]\n",
      " [0.        ]\n",
      " [0.51025391]\n",
      " [0.50878906]\n",
      " [0.        ]\n",
      " [0.25585938]\n",
      " [1.        ]]\n",
      "[0.54541016 0.61181641 0.49731445 0.20507812 0.         0.51025391\n",
      " 0.50878906 0.         0.25585938 1.        ]\n"
     ]
    }
   ],
   "source": [
    "print(preds[:10])\n",
    "print(preds[:,0][:10])"
   ]
  },
  {
   "cell_type": "code",
   "execution_count": 15,
   "id": "80b587b0",
   "metadata": {
    "execution": {
     "iopub.execute_input": "2023-04-25T09:47:31.857077Z",
     "iopub.status.busy": "2023-04-25T09:47:31.856772Z",
     "iopub.status.idle": "2023-04-25T09:47:31.969568Z",
     "shell.execute_reply": "2023-04-25T09:47:31.968494Z"
    },
    "papermill": {
     "duration": 0.122597,
     "end_time": "2023-04-25T09:47:31.971807",
     "exception": false,
     "start_time": "2023-04-25T09:47:31.849210",
     "status": "completed"
    },
    "tags": []
   },
   "outputs": [
    {
     "data": {
      "application/vnd.jupyter.widget-view+json": {
       "model_id": "4546f7d3133240968c72a1c2cf62f7f4",
       "version_major": 2,
       "version_minor": 0
      },
      "text/plain": [
       "Creating CSV from Arrow format:   0%|          | 0/1 [00:00<?, ?ba/s]"
      ]
     },
     "metadata": {},
     "output_type": "display_data"
    },
    {
     "data": {
      "text/plain": [
       "1031"
      ]
     },
     "execution_count": 15,
     "metadata": {},
     "output_type": "execute_result"
    }
   ],
   "source": [
    "import datasets\n",
    "\n",
    "submission = datasets.Dataset.from_dict({\n",
    "    'id': eval_ds['id'],\n",
    "    'score': preds[:,0]\n",
    "})\n",
    "\n",
    "submission.to_csv('submission.csv', index=False)"
   ]
  },
  {
   "cell_type": "code",
   "execution_count": 16,
   "id": "fb144c6e",
   "metadata": {
    "execution": {
     "iopub.execute_input": "2023-04-25T09:47:31.987130Z",
     "iopub.status.busy": "2023-04-25T09:47:31.986521Z",
     "iopub.status.idle": "2023-04-25T09:47:32.287723Z",
     "shell.execute_reply": "2023-04-25T09:47:32.286554Z"
    },
    "papermill": {
     "duration": 0.311389,
     "end_time": "2023-04-25T09:47:32.289988",
     "exception": false,
     "start_time": "2023-04-25T09:47:31.978599",
     "status": "completed"
    },
    "tags": []
   },
   "outputs": [
    {
     "name": "stdout",
     "output_type": "stream",
     "text": [
      "id,score\n",
      "4112d61851461f60,0.54541015625\n",
      "09e418c93a776564,0.61181640625\n",
      "36baf228038e314b,0.497314453125\n",
      "1f37ead645e7f0c8,0.205078125\n",
      "71a5b6ad068d531f,0.0\n",
      "474c874d0c07bd21,0.51025390625\n",
      "442c114ed5c4e3c9,0.5087890625\n",
      "b8ae62ea5e1d8bdb,0.0\n",
      "faaddaf8fcba8a3f,0.255859375\n"
     ]
    }
   ],
   "source": [
    "%%bash \n",
    "head submission.csv"
   ]
  }
 ],
 "metadata": {
  "kernelspec": {
   "display_name": "Python 3",
   "language": "python",
   "name": "python3"
  },
  "language_info": {
   "codemirror_mode": {
    "name": "ipython",
    "version": 3
   },
   "file_extension": ".py",
   "mimetype": "text/x-python",
   "name": "python",
   "nbconvert_exporter": "python",
   "pygments_lexer": "ipython3",
   "version": "3.7.12"
  },
  "papermill": {
   "default_parameters": {},
   "duration": 1798.680427,
   "end_time": "2023-04-25T09:47:35.626413",
   "environment_variables": {},
   "exception": null,
   "input_path": "__notebook__.ipynb",
   "output_path": "__notebook__.ipynb",
   "parameters": {},
   "start_time": "2023-04-25T09:17:36.945986",
   "version": "2.4.0"
  },
  "widgets": {
   "application/vnd.jupyter.widget-state+json": {
    "state": {
     "0621c2d0e0d641c181b4f148b2b43ac5": {
      "model_module": "@jupyter-widgets/controls",
      "model_module_version": "1.5.0",
      "model_name": "FloatProgressModel",
      "state": {
       "_dom_classes": [],
       "_model_module": "@jupyter-widgets/controls",
       "_model_module_version": "1.5.0",
       "_model_name": "FloatProgressModel",
       "_view_count": null,
       "_view_module": "@jupyter-widgets/controls",
       "_view_module_version": "1.5.0",
       "_view_name": "ProgressView",
       "bar_style": "success",
       "description": "",
       "description_tooltip": null,
       "layout": "IPY_MODEL_a3aa5e4d98fc48c3a65d6cb50a829fb5",
       "max": 37.0,
       "min": 0.0,
       "orientation": "horizontal",
       "style": "IPY_MODEL_bb00221b80d648589aa2d66337b205a1",
       "value": 37.0
      }
     },
     "0c6914432c7a4539a862fe27c782ff8c": {
      "model_module": "@jupyter-widgets/controls",
      "model_module_version": "1.5.0",
      "model_name": "HTMLModel",
      "state": {
       "_dom_classes": [],
       "_model_module": "@jupyter-widgets/controls",
       "_model_module_version": "1.5.0",
       "_model_name": "HTMLModel",
       "_view_count": null,
       "_view_module": "@jupyter-widgets/controls",
       "_view_module_version": "1.5.0",
       "_view_name": "HTMLView",
       "description": "",
       "description_tooltip": null,
       "layout": "IPY_MODEL_24afc94732e1492996abcabd74845c78",
       "placeholder": "​",
       "style": "IPY_MODEL_392c46ab57ab4b389420c71468740a30",
       "value": " 1/1 [00:00&lt;00:00, 41.35ba/s]"
      }
     },
     "21da70229df546079a18461d1ee861f7": {
      "model_module": "@jupyter-widgets/controls",
      "model_module_version": "1.5.0",
      "model_name": "DescriptionStyleModel",
      "state": {
       "_model_module": "@jupyter-widgets/controls",
       "_model_module_version": "1.5.0",
       "_model_name": "DescriptionStyleModel",
       "_view_count": null,
       "_view_module": "@jupyter-widgets/base",
       "_view_module_version": "1.2.0",
       "_view_name": "StyleView",
       "description_width": ""
      }
     },
     "24afc94732e1492996abcabd74845c78": {
      "model_module": "@jupyter-widgets/base",
      "model_module_version": "1.2.0",
      "model_name": "LayoutModel",
      "state": {
       "_model_module": "@jupyter-widgets/base",
       "_model_module_version": "1.2.0",
       "_model_name": "LayoutModel",
       "_view_count": null,
       "_view_module": "@jupyter-widgets/base",
       "_view_module_version": "1.2.0",
       "_view_name": "LayoutView",
       "align_content": null,
       "align_items": null,
       "align_self": null,
       "border": null,
       "bottom": null,
       "display": null,
       "flex": null,
       "flex_flow": null,
       "grid_area": null,
       "grid_auto_columns": null,
       "grid_auto_flow": null,
       "grid_auto_rows": null,
       "grid_column": null,
       "grid_gap": null,
       "grid_row": null,
       "grid_template_areas": null,
       "grid_template_columns": null,
       "grid_template_rows": null,
       "height": null,
       "justify_content": null,
       "justify_items": null,
       "left": null,
       "margin": null,
       "max_height": null,
       "max_width": null,
       "min_height": null,
       "min_width": null,
       "object_fit": null,
       "object_position": null,
       "order": null,
       "overflow": null,
       "overflow_x": null,
       "overflow_y": null,
       "padding": null,
       "right": null,
       "top": null,
       "visibility": null,
       "width": null
      }
     },
     "299a4c0d2b97454d8e7e26acfe885312": {
      "model_module": "@jupyter-widgets/controls",
      "model_module_version": "1.5.0",
      "model_name": "DescriptionStyleModel",
      "state": {
       "_model_module": "@jupyter-widgets/controls",
       "_model_module_version": "1.5.0",
       "_model_name": "DescriptionStyleModel",
       "_view_count": null,
       "_view_module": "@jupyter-widgets/base",
       "_view_module_version": "1.2.0",
       "_view_name": "StyleView",
       "description_width": ""
      }
     },
     "2c24fc2244e74fee9493261ba3b8bcc3": {
      "model_module": "@jupyter-widgets/controls",
      "model_module_version": "1.5.0",
      "model_name": "HTMLModel",
      "state": {
       "_dom_classes": [],
       "_model_module": "@jupyter-widgets/controls",
       "_model_module_version": "1.5.0",
       "_model_name": "HTMLModel",
       "_view_count": null,
       "_view_module": "@jupyter-widgets/controls",
       "_view_module_version": "1.5.0",
       "_view_name": "HTMLView",
       "description": "",
       "description_tooltip": null,
       "layout": "IPY_MODEL_f3d5ef12f2764c24a0c9ef10f554fe53",
       "placeholder": "​",
       "style": "IPY_MODEL_7a56f45edd6949c583ef50f99eb6117d",
       "value": " 37/37 [00:02&lt;00:00, 12.89ba/s]"
      }
     },
     "2f4174c35cbe4e6280ea281987a7e5b1": {
      "model_module": "@jupyter-widgets/controls",
      "model_module_version": "1.5.0",
      "model_name": "DescriptionStyleModel",
      "state": {
       "_model_module": "@jupyter-widgets/controls",
       "_model_module_version": "1.5.0",
       "_model_name": "DescriptionStyleModel",
       "_view_count": null,
       "_view_module": "@jupyter-widgets/base",
       "_view_module_version": "1.2.0",
       "_view_name": "StyleView",
       "description_width": ""
      }
     },
     "376b5f5a64aa46998a945c43a7ec29f2": {
      "model_module": "@jupyter-widgets/base",
      "model_module_version": "1.2.0",
      "model_name": "LayoutModel",
      "state": {
       "_model_module": "@jupyter-widgets/base",
       "_model_module_version": "1.2.0",
       "_model_name": "LayoutModel",
       "_view_count": null,
       "_view_module": "@jupyter-widgets/base",
       "_view_module_version": "1.2.0",
       "_view_name": "LayoutView",
       "align_content": null,
       "align_items": null,
       "align_self": null,
       "border": null,
       "bottom": null,
       "display": null,
       "flex": null,
       "flex_flow": null,
       "grid_area": null,
       "grid_auto_columns": null,
       "grid_auto_flow": null,
       "grid_auto_rows": null,
       "grid_column": null,
       "grid_gap": null,
       "grid_row": null,
       "grid_template_areas": null,
       "grid_template_columns": null,
       "grid_template_rows": null,
       "height": null,
       "justify_content": null,
       "justify_items": null,
       "left": null,
       "margin": null,
       "max_height": null,
       "max_width": null,
       "min_height": null,
       "min_width": null,
       "object_fit": null,
       "object_position": null,
       "order": null,
       "overflow": null,
       "overflow_x": null,
       "overflow_y": null,
       "padding": null,
       "right": null,
       "top": null,
       "visibility": null,
       "width": null
      }
     },
     "392c46ab57ab4b389420c71468740a30": {
      "model_module": "@jupyter-widgets/controls",
      "model_module_version": "1.5.0",
      "model_name": "DescriptionStyleModel",
      "state": {
       "_model_module": "@jupyter-widgets/controls",
       "_model_module_version": "1.5.0",
       "_model_name": "DescriptionStyleModel",
       "_view_count": null,
       "_view_module": "@jupyter-widgets/base",
       "_view_module_version": "1.2.0",
       "_view_name": "StyleView",
       "description_width": ""
      }
     },
     "3bfca5adc5f64f499638bf9c33d1fbdd": {
      "model_module": "@jupyter-widgets/controls",
      "model_module_version": "1.5.0",
      "model_name": "HBoxModel",
      "state": {
       "_dom_classes": [],
       "_model_module": "@jupyter-widgets/controls",
       "_model_module_version": "1.5.0",
       "_model_name": "HBoxModel",
       "_view_count": null,
       "_view_module": "@jupyter-widgets/controls",
       "_view_module_version": "1.5.0",
       "_view_name": "HBoxView",
       "box_style": "",
       "children": [
        "IPY_MODEL_b6505e7bdde945b3a68a5157c029a257",
        "IPY_MODEL_0621c2d0e0d641c181b4f148b2b43ac5",
        "IPY_MODEL_2c24fc2244e74fee9493261ba3b8bcc3"
       ],
       "layout": "IPY_MODEL_4ab3378f2d0c45f5a028cbf7572b5208"
      }
     },
     "426e56a0842e414b975e182c9aef626d": {
      "model_module": "@jupyter-widgets/base",
      "model_module_version": "1.2.0",
      "model_name": "LayoutModel",
      "state": {
       "_model_module": "@jupyter-widgets/base",
       "_model_module_version": "1.2.0",
       "_model_name": "LayoutModel",
       "_view_count": null,
       "_view_module": "@jupyter-widgets/base",
       "_view_module_version": "1.2.0",
       "_view_name": "LayoutView",
       "align_content": null,
       "align_items": null,
       "align_self": null,
       "border": null,
       "bottom": null,
       "display": null,
       "flex": null,
       "flex_flow": null,
       "grid_area": null,
       "grid_auto_columns": null,
       "grid_auto_flow": null,
       "grid_auto_rows": null,
       "grid_column": null,
       "grid_gap": null,
       "grid_row": null,
       "grid_template_areas": null,
       "grid_template_columns": null,
       "grid_template_rows": null,
       "height": null,
       "justify_content": null,
       "justify_items": null,
       "left": null,
       "margin": null,
       "max_height": null,
       "max_width": null,
       "min_height": null,
       "min_width": null,
       "object_fit": null,
       "object_position": null,
       "order": null,
       "overflow": null,
       "overflow_x": null,
       "overflow_y": null,
       "padding": null,
       "right": null,
       "top": null,
       "visibility": null,
       "width": null
      }
     },
     "4546f7d3133240968c72a1c2cf62f7f4": {
      "model_module": "@jupyter-widgets/controls",
      "model_module_version": "1.5.0",
      "model_name": "HBoxModel",
      "state": {
       "_dom_classes": [],
       "_model_module": "@jupyter-widgets/controls",
       "_model_module_version": "1.5.0",
       "_model_name": "HBoxModel",
       "_view_count": null,
       "_view_module": "@jupyter-widgets/controls",
       "_view_module_version": "1.5.0",
       "_view_name": "HBoxView",
       "box_style": "",
       "children": [
        "IPY_MODEL_6494320928df4a3bbb51ca488ef8e91e",
        "IPY_MODEL_5c76b5e3aefd4f30bbbdd10f8906c313",
        "IPY_MODEL_5ab7fe917a8f4fd6a808e40cb2d4e1eb"
       ],
       "layout": "IPY_MODEL_910377f030a2419a8ad1cfb7fc217cf0"
      }
     },
     "4ab3378f2d0c45f5a028cbf7572b5208": {
      "model_module": "@jupyter-widgets/base",
      "model_module_version": "1.2.0",
      "model_name": "LayoutModel",
      "state": {
       "_model_module": "@jupyter-widgets/base",
       "_model_module_version": "1.2.0",
       "_model_name": "LayoutModel",
       "_view_count": null,
       "_view_module": "@jupyter-widgets/base",
       "_view_module_version": "1.2.0",
       "_view_name": "LayoutView",
       "align_content": null,
       "align_items": null,
       "align_self": null,
       "border": null,
       "bottom": null,
       "display": null,
       "flex": null,
       "flex_flow": null,
       "grid_area": null,
       "grid_auto_columns": null,
       "grid_auto_flow": null,
       "grid_auto_rows": null,
       "grid_column": null,
       "grid_gap": null,
       "grid_row": null,
       "grid_template_areas": null,
       "grid_template_columns": null,
       "grid_template_rows": null,
       "height": null,
       "justify_content": null,
       "justify_items": null,
       "left": null,
       "margin": null,
       "max_height": null,
       "max_width": null,
       "min_height": null,
       "min_width": null,
       "object_fit": null,
       "object_position": null,
       "order": null,
       "overflow": null,
       "overflow_x": null,
       "overflow_y": null,
       "padding": null,
       "right": null,
       "top": null,
       "visibility": null,
       "width": null
      }
     },
     "4e17786e0ce9461f88144eb8bb1ee982": {
      "model_module": "@jupyter-widgets/base",
      "model_module_version": "1.2.0",
      "model_name": "LayoutModel",
      "state": {
       "_model_module": "@jupyter-widgets/base",
       "_model_module_version": "1.2.0",
       "_model_name": "LayoutModel",
       "_view_count": null,
       "_view_module": "@jupyter-widgets/base",
       "_view_module_version": "1.2.0",
       "_view_name": "LayoutView",
       "align_content": null,
       "align_items": null,
       "align_self": null,
       "border": null,
       "bottom": null,
       "display": null,
       "flex": null,
       "flex_flow": null,
       "grid_area": null,
       "grid_auto_columns": null,
       "grid_auto_flow": null,
       "grid_auto_rows": null,
       "grid_column": null,
       "grid_gap": null,
       "grid_row": null,
       "grid_template_areas": null,
       "grid_template_columns": null,
       "grid_template_rows": null,
       "height": null,
       "justify_content": null,
       "justify_items": null,
       "left": null,
       "margin": null,
       "max_height": null,
       "max_width": null,
       "min_height": null,
       "min_width": null,
       "object_fit": null,
       "object_position": null,
       "order": null,
       "overflow": null,
       "overflow_x": null,
       "overflow_y": null,
       "padding": null,
       "right": null,
       "top": null,
       "visibility": null,
       "width": null
      }
     },
     "4fde5813a29149d986ba14831a8ee4c7": {
      "model_module": "@jupyter-widgets/controls",
      "model_module_version": "1.5.0",
      "model_name": "HTMLModel",
      "state": {
       "_dom_classes": [],
       "_model_module": "@jupyter-widgets/controls",
       "_model_module_version": "1.5.0",
       "_model_name": "HTMLModel",
       "_view_count": null,
       "_view_module": "@jupyter-widgets/controls",
       "_view_module_version": "1.5.0",
       "_view_name": "HTMLView",
       "description": "",
       "description_tooltip": null,
       "layout": "IPY_MODEL_621ba01a274e4c2e833f53c9bd6bd235",
       "placeholder": "​",
       "style": "IPY_MODEL_54270e92413c4f859b6d18ca6d8cd7f8",
       "value": "100%"
      }
     },
     "54270e92413c4f859b6d18ca6d8cd7f8": {
      "model_module": "@jupyter-widgets/controls",
      "model_module_version": "1.5.0",
      "model_name": "DescriptionStyleModel",
      "state": {
       "_model_module": "@jupyter-widgets/controls",
       "_model_module_version": "1.5.0",
       "_model_name": "DescriptionStyleModel",
       "_view_count": null,
       "_view_module": "@jupyter-widgets/base",
       "_view_module_version": "1.2.0",
       "_view_name": "StyleView",
       "description_width": ""
      }
     },
     "5ab7fe917a8f4fd6a808e40cb2d4e1eb": {
      "model_module": "@jupyter-widgets/controls",
      "model_module_version": "1.5.0",
      "model_name": "HTMLModel",
      "state": {
       "_dom_classes": [],
       "_model_module": "@jupyter-widgets/controls",
       "_model_module_version": "1.5.0",
       "_model_name": "HTMLModel",
       "_view_count": null,
       "_view_module": "@jupyter-widgets/controls",
       "_view_module_version": "1.5.0",
       "_view_name": "HTMLView",
       "description": "",
       "description_tooltip": null,
       "layout": "IPY_MODEL_dfa529f7cb7e45ba882b9ede2e30d7e6",
       "placeholder": "​",
       "style": "IPY_MODEL_299a4c0d2b97454d8e7e26acfe885312",
       "value": " 1/1 [00:00&lt;00:00, 12.65ba/s]"
      }
     },
     "5c76b5e3aefd4f30bbbdd10f8906c313": {
      "model_module": "@jupyter-widgets/controls",
      "model_module_version": "1.5.0",
      "model_name": "FloatProgressModel",
      "state": {
       "_dom_classes": [],
       "_model_module": "@jupyter-widgets/controls",
       "_model_module_version": "1.5.0",
       "_model_name": "FloatProgressModel",
       "_view_count": null,
       "_view_module": "@jupyter-widgets/controls",
       "_view_module_version": "1.5.0",
       "_view_name": "ProgressView",
       "bar_style": "success",
       "description": "",
       "description_tooltip": null,
       "layout": "IPY_MODEL_a21c23e69b8a4bdf854d7b096d832033",
       "max": 1.0,
       "min": 0.0,
       "orientation": "horizontal",
       "style": "IPY_MODEL_88619e7bb77c403a9d0ea7a603ca90d4",
       "value": 1.0
      }
     },
     "5e35b3b318fe434a9f49bca4572d57c2": {
      "model_module": "@jupyter-widgets/controls",
      "model_module_version": "1.5.0",
      "model_name": "ProgressStyleModel",
      "state": {
       "_model_module": "@jupyter-widgets/controls",
       "_model_module_version": "1.5.0",
       "_model_name": "ProgressStyleModel",
       "_view_count": null,
       "_view_module": "@jupyter-widgets/base",
       "_view_module_version": "1.2.0",
       "_view_name": "StyleView",
       "bar_color": null,
       "description_width": ""
      }
     },
     "621ba01a274e4c2e833f53c9bd6bd235": {
      "model_module": "@jupyter-widgets/base",
      "model_module_version": "1.2.0",
      "model_name": "LayoutModel",
      "state": {
       "_model_module": "@jupyter-widgets/base",
       "_model_module_version": "1.2.0",
       "_model_name": "LayoutModel",
       "_view_count": null,
       "_view_module": "@jupyter-widgets/base",
       "_view_module_version": "1.2.0",
       "_view_name": "LayoutView",
       "align_content": null,
       "align_items": null,
       "align_self": null,
       "border": null,
       "bottom": null,
       "display": null,
       "flex": null,
       "flex_flow": null,
       "grid_area": null,
       "grid_auto_columns": null,
       "grid_auto_flow": null,
       "grid_auto_rows": null,
       "grid_column": null,
       "grid_gap": null,
       "grid_row": null,
       "grid_template_areas": null,
       "grid_template_columns": null,
       "grid_template_rows": null,
       "height": null,
       "justify_content": null,
       "justify_items": null,
       "left": null,
       "margin": null,
       "max_height": null,
       "max_width": null,
       "min_height": null,
       "min_width": null,
       "object_fit": null,
       "object_position": null,
       "order": null,
       "overflow": null,
       "overflow_x": null,
       "overflow_y": null,
       "padding": null,
       "right": null,
       "top": null,
       "visibility": null,
       "width": null
      }
     },
     "6494320928df4a3bbb51ca488ef8e91e": {
      "model_module": "@jupyter-widgets/controls",
      "model_module_version": "1.5.0",
      "model_name": "HTMLModel",
      "state": {
       "_dom_classes": [],
       "_model_module": "@jupyter-widgets/controls",
       "_model_module_version": "1.5.0",
       "_model_name": "HTMLModel",
       "_view_count": null,
       "_view_module": "@jupyter-widgets/controls",
       "_view_module_version": "1.5.0",
       "_view_name": "HTMLView",
       "description": "",
       "description_tooltip": null,
       "layout": "IPY_MODEL_376b5f5a64aa46998a945c43a7ec29f2",
       "placeholder": "​",
       "style": "IPY_MODEL_21da70229df546079a18461d1ee861f7",
       "value": "Creating CSV from Arrow format: 100%"
      }
     },
     "7a56f45edd6949c583ef50f99eb6117d": {
      "model_module": "@jupyter-widgets/controls",
      "model_module_version": "1.5.0",
      "model_name": "DescriptionStyleModel",
      "state": {
       "_model_module": "@jupyter-widgets/controls",
       "_model_module_version": "1.5.0",
       "_model_name": "DescriptionStyleModel",
       "_view_count": null,
       "_view_module": "@jupyter-widgets/base",
       "_view_module_version": "1.2.0",
       "_view_name": "StyleView",
       "description_width": ""
      }
     },
     "88619e7bb77c403a9d0ea7a603ca90d4": {
      "model_module": "@jupyter-widgets/controls",
      "model_module_version": "1.5.0",
      "model_name": "ProgressStyleModel",
      "state": {
       "_model_module": "@jupyter-widgets/controls",
       "_model_module_version": "1.5.0",
       "_model_name": "ProgressStyleModel",
       "_view_count": null,
       "_view_module": "@jupyter-widgets/base",
       "_view_module_version": "1.2.0",
       "_view_name": "StyleView",
       "bar_color": null,
       "description_width": ""
      }
     },
     "910377f030a2419a8ad1cfb7fc217cf0": {
      "model_module": "@jupyter-widgets/base",
      "model_module_version": "1.2.0",
      "model_name": "LayoutModel",
      "state": {
       "_model_module": "@jupyter-widgets/base",
       "_model_module_version": "1.2.0",
       "_model_name": "LayoutModel",
       "_view_count": null,
       "_view_module": "@jupyter-widgets/base",
       "_view_module_version": "1.2.0",
       "_view_name": "LayoutView",
       "align_content": null,
       "align_items": null,
       "align_self": null,
       "border": null,
       "bottom": null,
       "display": null,
       "flex": null,
       "flex_flow": null,
       "grid_area": null,
       "grid_auto_columns": null,
       "grid_auto_flow": null,
       "grid_auto_rows": null,
       "grid_column": null,
       "grid_gap": null,
       "grid_row": null,
       "grid_template_areas": null,
       "grid_template_columns": null,
       "grid_template_rows": null,
       "height": null,
       "justify_content": null,
       "justify_items": null,
       "left": null,
       "margin": null,
       "max_height": null,
       "max_width": null,
       "min_height": null,
       "min_width": null,
       "object_fit": null,
       "object_position": null,
       "order": null,
       "overflow": null,
       "overflow_x": null,
       "overflow_y": null,
       "padding": null,
       "right": null,
       "top": null,
       "visibility": null,
       "width": null
      }
     },
     "a21c23e69b8a4bdf854d7b096d832033": {
      "model_module": "@jupyter-widgets/base",
      "model_module_version": "1.2.0",
      "model_name": "LayoutModel",
      "state": {
       "_model_module": "@jupyter-widgets/base",
       "_model_module_version": "1.2.0",
       "_model_name": "LayoutModel",
       "_view_count": null,
       "_view_module": "@jupyter-widgets/base",
       "_view_module_version": "1.2.0",
       "_view_name": "LayoutView",
       "align_content": null,
       "align_items": null,
       "align_self": null,
       "border": null,
       "bottom": null,
       "display": null,
       "flex": null,
       "flex_flow": null,
       "grid_area": null,
       "grid_auto_columns": null,
       "grid_auto_flow": null,
       "grid_auto_rows": null,
       "grid_column": null,
       "grid_gap": null,
       "grid_row": null,
       "grid_template_areas": null,
       "grid_template_columns": null,
       "grid_template_rows": null,
       "height": null,
       "justify_content": null,
       "justify_items": null,
       "left": null,
       "margin": null,
       "max_height": null,
       "max_width": null,
       "min_height": null,
       "min_width": null,
       "object_fit": null,
       "object_position": null,
       "order": null,
       "overflow": null,
       "overflow_x": null,
       "overflow_y": null,
       "padding": null,
       "right": null,
       "top": null,
       "visibility": null,
       "width": null
      }
     },
     "a3aa5e4d98fc48c3a65d6cb50a829fb5": {
      "model_module": "@jupyter-widgets/base",
      "model_module_version": "1.2.0",
      "model_name": "LayoutModel",
      "state": {
       "_model_module": "@jupyter-widgets/base",
       "_model_module_version": "1.2.0",
       "_model_name": "LayoutModel",
       "_view_count": null,
       "_view_module": "@jupyter-widgets/base",
       "_view_module_version": "1.2.0",
       "_view_name": "LayoutView",
       "align_content": null,
       "align_items": null,
       "align_self": null,
       "border": null,
       "bottom": null,
       "display": null,
       "flex": null,
       "flex_flow": null,
       "grid_area": null,
       "grid_auto_columns": null,
       "grid_auto_flow": null,
       "grid_auto_rows": null,
       "grid_column": null,
       "grid_gap": null,
       "grid_row": null,
       "grid_template_areas": null,
       "grid_template_columns": null,
       "grid_template_rows": null,
       "height": null,
       "justify_content": null,
       "justify_items": null,
       "left": null,
       "margin": null,
       "max_height": null,
       "max_width": null,
       "min_height": null,
       "min_width": null,
       "object_fit": null,
       "object_position": null,
       "order": null,
       "overflow": null,
       "overflow_x": null,
       "overflow_y": null,
       "padding": null,
       "right": null,
       "top": null,
       "visibility": null,
       "width": null
      }
     },
     "af95e448fb3d4b3c81b93ac5ddbae27b": {
      "model_module": "@jupyter-widgets/controls",
      "model_module_version": "1.5.0",
      "model_name": "FloatProgressModel",
      "state": {
       "_dom_classes": [],
       "_model_module": "@jupyter-widgets/controls",
       "_model_module_version": "1.5.0",
       "_model_name": "FloatProgressModel",
       "_view_count": null,
       "_view_module": "@jupyter-widgets/controls",
       "_view_module_version": "1.5.0",
       "_view_name": "ProgressView",
       "bar_style": "success",
       "description": "",
       "description_tooltip": null,
       "layout": "IPY_MODEL_426e56a0842e414b975e182c9aef626d",
       "max": 1.0,
       "min": 0.0,
       "orientation": "horizontal",
       "style": "IPY_MODEL_5e35b3b318fe434a9f49bca4572d57c2",
       "value": 1.0
      }
     },
     "afb0e3a9a0f54f9aa97feb7921a24984": {
      "model_module": "@jupyter-widgets/base",
      "model_module_version": "1.2.0",
      "model_name": "LayoutModel",
      "state": {
       "_model_module": "@jupyter-widgets/base",
       "_model_module_version": "1.2.0",
       "_model_name": "LayoutModel",
       "_view_count": null,
       "_view_module": "@jupyter-widgets/base",
       "_view_module_version": "1.2.0",
       "_view_name": "LayoutView",
       "align_content": null,
       "align_items": null,
       "align_self": null,
       "border": null,
       "bottom": null,
       "display": null,
       "flex": null,
       "flex_flow": null,
       "grid_area": null,
       "grid_auto_columns": null,
       "grid_auto_flow": null,
       "grid_auto_rows": null,
       "grid_column": null,
       "grid_gap": null,
       "grid_row": null,
       "grid_template_areas": null,
       "grid_template_columns": null,
       "grid_template_rows": null,
       "height": null,
       "justify_content": null,
       "justify_items": null,
       "left": null,
       "margin": null,
       "max_height": null,
       "max_width": null,
       "min_height": null,
       "min_width": null,
       "object_fit": null,
       "object_position": null,
       "order": null,
       "overflow": null,
       "overflow_x": null,
       "overflow_y": null,
       "padding": null,
       "right": null,
       "top": null,
       "visibility": null,
       "width": null
      }
     },
     "b6505e7bdde945b3a68a5157c029a257": {
      "model_module": "@jupyter-widgets/controls",
      "model_module_version": "1.5.0",
      "model_name": "HTMLModel",
      "state": {
       "_dom_classes": [],
       "_model_module": "@jupyter-widgets/controls",
       "_model_module_version": "1.5.0",
       "_model_name": "HTMLModel",
       "_view_count": null,
       "_view_module": "@jupyter-widgets/controls",
       "_view_module_version": "1.5.0",
       "_view_name": "HTMLView",
       "description": "",
       "description_tooltip": null,
       "layout": "IPY_MODEL_4e17786e0ce9461f88144eb8bb1ee982",
       "placeholder": "​",
       "style": "IPY_MODEL_2f4174c35cbe4e6280ea281987a7e5b1",
       "value": "100%"
      }
     },
     "bb00221b80d648589aa2d66337b205a1": {
      "model_module": "@jupyter-widgets/controls",
      "model_module_version": "1.5.0",
      "model_name": "ProgressStyleModel",
      "state": {
       "_model_module": "@jupyter-widgets/controls",
       "_model_module_version": "1.5.0",
       "_model_name": "ProgressStyleModel",
       "_view_count": null,
       "_view_module": "@jupyter-widgets/base",
       "_view_module_version": "1.2.0",
       "_view_name": "StyleView",
       "bar_color": null,
       "description_width": ""
      }
     },
     "dfa529f7cb7e45ba882b9ede2e30d7e6": {
      "model_module": "@jupyter-widgets/base",
      "model_module_version": "1.2.0",
      "model_name": "LayoutModel",
      "state": {
       "_model_module": "@jupyter-widgets/base",
       "_model_module_version": "1.2.0",
       "_model_name": "LayoutModel",
       "_view_count": null,
       "_view_module": "@jupyter-widgets/base",
       "_view_module_version": "1.2.0",
       "_view_name": "LayoutView",
       "align_content": null,
       "align_items": null,
       "align_self": null,
       "border": null,
       "bottom": null,
       "display": null,
       "flex": null,
       "flex_flow": null,
       "grid_area": null,
       "grid_auto_columns": null,
       "grid_auto_flow": null,
       "grid_auto_rows": null,
       "grid_column": null,
       "grid_gap": null,
       "grid_row": null,
       "grid_template_areas": null,
       "grid_template_columns": null,
       "grid_template_rows": null,
       "height": null,
       "justify_content": null,
       "justify_items": null,
       "left": null,
       "margin": null,
       "max_height": null,
       "max_width": null,
       "min_height": null,
       "min_width": null,
       "object_fit": null,
       "object_position": null,
       "order": null,
       "overflow": null,
       "overflow_x": null,
       "overflow_y": null,
       "padding": null,
       "right": null,
       "top": null,
       "visibility": null,
       "width": null
      }
     },
     "f0415ab9e9834a8f9486bb13797202e1": {
      "model_module": "@jupyter-widgets/controls",
      "model_module_version": "1.5.0",
      "model_name": "HBoxModel",
      "state": {
       "_dom_classes": [],
       "_model_module": "@jupyter-widgets/controls",
       "_model_module_version": "1.5.0",
       "_model_name": "HBoxModel",
       "_view_count": null,
       "_view_module": "@jupyter-widgets/controls",
       "_view_module_version": "1.5.0",
       "_view_name": "HBoxView",
       "box_style": "",
       "children": [
        "IPY_MODEL_4fde5813a29149d986ba14831a8ee4c7",
        "IPY_MODEL_af95e448fb3d4b3c81b93ac5ddbae27b",
        "IPY_MODEL_0c6914432c7a4539a862fe27c782ff8c"
       ],
       "layout": "IPY_MODEL_afb0e3a9a0f54f9aa97feb7921a24984"
      }
     },
     "f3d5ef12f2764c24a0c9ef10f554fe53": {
      "model_module": "@jupyter-widgets/base",
      "model_module_version": "1.2.0",
      "model_name": "LayoutModel",
      "state": {
       "_model_module": "@jupyter-widgets/base",
       "_model_module_version": "1.2.0",
       "_model_name": "LayoutModel",
       "_view_count": null,
       "_view_module": "@jupyter-widgets/base",
       "_view_module_version": "1.2.0",
       "_view_name": "LayoutView",
       "align_content": null,
       "align_items": null,
       "align_self": null,
       "border": null,
       "bottom": null,
       "display": null,
       "flex": null,
       "flex_flow": null,
       "grid_area": null,
       "grid_auto_columns": null,
       "grid_auto_flow": null,
       "grid_auto_rows": null,
       "grid_column": null,
       "grid_gap": null,
       "grid_row": null,
       "grid_template_areas": null,
       "grid_template_columns": null,
       "grid_template_rows": null,
       "height": null,
       "justify_content": null,
       "justify_items": null,
       "left": null,
       "margin": null,
       "max_height": null,
       "max_width": null,
       "min_height": null,
       "min_width": null,
       "object_fit": null,
       "object_position": null,
       "order": null,
       "overflow": null,
       "overflow_x": null,
       "overflow_y": null,
       "padding": null,
       "right": null,
       "top": null,
       "visibility": null,
       "width": null
      }
     }
    },
    "version_major": 2,
    "version_minor": 0
   }
  }
 },
 "nbformat": 4,
 "nbformat_minor": 5
}
