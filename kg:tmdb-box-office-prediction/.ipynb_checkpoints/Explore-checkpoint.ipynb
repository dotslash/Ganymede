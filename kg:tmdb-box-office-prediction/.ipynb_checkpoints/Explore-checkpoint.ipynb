{
 "cells": [
  {
   "cell_type": "code",
   "execution_count": 1,
   "metadata": {},
   "outputs": [],
   "source": [
    "# Imports\n",
    "import pandas\n",
    "import json"
   ]
  },
  {
   "cell_type": "code",
   "execution_count": 2,
   "metadata": {},
   "outputs": [
    {
     "data": {
      "text/html": [
       "<div>\n",
       "<style scoped>\n",
       "    .dataframe tbody tr th:only-of-type {\n",
       "        vertical-align: middle;\n",
       "    }\n",
       "\n",
       "    .dataframe tbody tr th {\n",
       "        vertical-align: top;\n",
       "    }\n",
       "\n",
       "    .dataframe thead th {\n",
       "        text-align: right;\n",
       "    }\n",
       "</style>\n",
       "<table border=\"1\" class=\"dataframe\">\n",
       "  <thead>\n",
       "    <tr style=\"text-align: right;\">\n",
       "      <th></th>\n",
       "      <th>id</th>\n",
       "      <th>budget</th>\n",
       "      <th>popularity</th>\n",
       "      <th>runtime</th>\n",
       "      <th>revenue</th>\n",
       "    </tr>\n",
       "  </thead>\n",
       "  <tbody>\n",
       "    <tr>\n",
       "      <th>count</th>\n",
       "      <td>3000.000000</td>\n",
       "      <td>3.000000e+03</td>\n",
       "      <td>3000.000000</td>\n",
       "      <td>2998.000000</td>\n",
       "      <td>3.000000e+03</td>\n",
       "    </tr>\n",
       "    <tr>\n",
       "      <th>mean</th>\n",
       "      <td>1500.500000</td>\n",
       "      <td>2.253133e+07</td>\n",
       "      <td>8.463274</td>\n",
       "      <td>107.856571</td>\n",
       "      <td>6.672585e+07</td>\n",
       "    </tr>\n",
       "    <tr>\n",
       "      <th>std</th>\n",
       "      <td>866.169729</td>\n",
       "      <td>3.702609e+07</td>\n",
       "      <td>12.104000</td>\n",
       "      <td>22.086434</td>\n",
       "      <td>1.375323e+08</td>\n",
       "    </tr>\n",
       "    <tr>\n",
       "      <th>min</th>\n",
       "      <td>1.000000</td>\n",
       "      <td>0.000000e+00</td>\n",
       "      <td>0.000001</td>\n",
       "      <td>0.000000</td>\n",
       "      <td>1.000000e+00</td>\n",
       "    </tr>\n",
       "    <tr>\n",
       "      <th>25%</th>\n",
       "      <td>750.750000</td>\n",
       "      <td>0.000000e+00</td>\n",
       "      <td>4.018053</td>\n",
       "      <td>94.000000</td>\n",
       "      <td>2.379808e+06</td>\n",
       "    </tr>\n",
       "    <tr>\n",
       "      <th>50%</th>\n",
       "      <td>1500.500000</td>\n",
       "      <td>8.000000e+06</td>\n",
       "      <td>7.374861</td>\n",
       "      <td>104.000000</td>\n",
       "      <td>1.680707e+07</td>\n",
       "    </tr>\n",
       "    <tr>\n",
       "      <th>75%</th>\n",
       "      <td>2250.250000</td>\n",
       "      <td>2.900000e+07</td>\n",
       "      <td>10.890983</td>\n",
       "      <td>118.000000</td>\n",
       "      <td>6.891920e+07</td>\n",
       "    </tr>\n",
       "    <tr>\n",
       "      <th>max</th>\n",
       "      <td>3000.000000</td>\n",
       "      <td>3.800000e+08</td>\n",
       "      <td>294.337037</td>\n",
       "      <td>338.000000</td>\n",
       "      <td>1.519558e+09</td>\n",
       "    </tr>\n",
       "  </tbody>\n",
       "</table>\n",
       "</div>"
      ],
      "text/plain": [
       "                id        budget   popularity      runtime       revenue\n",
       "count  3000.000000  3.000000e+03  3000.000000  2998.000000  3.000000e+03\n",
       "mean   1500.500000  2.253133e+07     8.463274   107.856571  6.672585e+07\n",
       "std     866.169729  3.702609e+07    12.104000    22.086434  1.375323e+08\n",
       "min       1.000000  0.000000e+00     0.000001     0.000000  1.000000e+00\n",
       "25%     750.750000  0.000000e+00     4.018053    94.000000  2.379808e+06\n",
       "50%    1500.500000  8.000000e+06     7.374861   104.000000  1.680707e+07\n",
       "75%    2250.250000  2.900000e+07    10.890983   118.000000  6.891920e+07\n",
       "max    3000.000000  3.800000e+08   294.337037   338.000000  1.519558e+09"
      ]
     },
     "execution_count": 2,
     "metadata": {},
     "output_type": "execute_result"
    }
   ],
   "source": [
    "raw_train = pandas.read_csv('data/train.csv')\n",
    "raw_train.describe()"
   ]
  },
  {
   "cell_type": "code",
   "execution_count": 3,
   "metadata": {},
   "outputs": [
    {
     "data": {
      "text/plain": [
       "id                         int64\n",
       "belongs_to_collection     object\n",
       "budget                     int64\n",
       "genres                    object\n",
       "homepage                  object\n",
       "imdb_id                   object\n",
       "original_language         object\n",
       "original_title            object\n",
       "overview                  object\n",
       "popularity               float64\n",
       "poster_path               object\n",
       "production_companies      object\n",
       "production_countries      object\n",
       "release_date              object\n",
       "runtime                  float64\n",
       "spoken_languages          object\n",
       "status                    object\n",
       "tagline                   object\n",
       "title                     object\n",
       "Keywords                  object\n",
       "cast                      object\n",
       "crew                      object\n",
       "revenue                    int64\n",
       "dtype: object"
      ]
     },
     "execution_count": 3,
     "metadata": {},
     "output_type": "execute_result"
    }
   ],
   "source": [
    "raw_train.dtypes"
   ]
  },
  {
   "cell_type": "code",
   "execution_count": 4,
   "metadata": {},
   "outputs": [
    {
     "name": "stdout",
     "output_type": "stream",
     "text": [
      "============genres============\n"
     ]
    },
    {
     "data": {
      "text/plain": [
       "0                       [{'id': 35, 'name': 'Comedy'}]\n",
       "1    [{'id': 35, 'name': 'Comedy'}, {'id': 18, 'nam...\n",
       "2                        [{'id': 18, 'name': 'Drama'}]\n",
       "3    [{'id': 53, 'name': 'Thriller'}, {'id': 18, 'n...\n",
       "4    [{'id': 28, 'name': 'Action'}, {'id': 53, 'nam...\n",
       "Name: genres, dtype: object"
      ]
     },
     "metadata": {},
     "output_type": "display_data"
    },
    {
     "data": {
      "text/plain": [
       "count                              2993\n",
       "unique                              872\n",
       "top       [{'id': 18, 'name': 'Drama'}]\n",
       "freq                                266\n",
       "Name: genres, dtype: object"
      ]
     },
     "metadata": {},
     "output_type": "display_data"
    },
    {
     "name": "stdout",
     "output_type": "stream",
     "text": [
      "============original_language============\n"
     ]
    },
    {
     "data": {
      "text/plain": [
       "0    en\n",
       "1    en\n",
       "2    en\n",
       "3    hi\n",
       "4    ko\n",
       "Name: original_language, dtype: object"
      ]
     },
     "metadata": {},
     "output_type": "display_data"
    },
    {
     "data": {
      "text/plain": [
       "count     3000\n",
       "unique      36\n",
       "top         en\n",
       "freq      2575\n",
       "Name: original_language, dtype: object"
      ]
     },
     "metadata": {},
     "output_type": "display_data"
    },
    {
     "name": "stdout",
     "output_type": "stream",
     "text": [
      "============popularity============\n"
     ]
    },
    {
     "data": {
      "text/plain": [
       "0     6.575393\n",
       "1     8.248895\n",
       "2    64.299990\n",
       "3     3.174936\n",
       "4     1.148070\n",
       "Name: popularity, dtype: float64"
      ]
     },
     "metadata": {},
     "output_type": "display_data"
    },
    {
     "data": {
      "text/plain": [
       "count    3000.000000\n",
       "mean        8.463274\n",
       "std        12.104000\n",
       "min         0.000001\n",
       "25%         4.018053\n",
       "50%         7.374861\n",
       "75%        10.890983\n",
       "max       294.337037\n",
       "Name: popularity, dtype: float64"
      ]
     },
     "metadata": {},
     "output_type": "display_data"
    },
    {
     "name": "stdout",
     "output_type": "stream",
     "text": [
      "============production_companies============\n"
     ]
    },
    {
     "data": {
      "text/plain": [
       "0    [{'name': 'Paramount Pictures', 'id': 4}, {'na...\n",
       "1          [{'name': 'Walt Disney Pictures', 'id': 2}]\n",
       "2    [{'name': 'Bold Films', 'id': 2266}, {'name': ...\n",
       "6    [{'name': 'Ghost House Pictures', 'id': 768}, ...\n",
       "8    [{'name': 'Walt Disney Pictures', 'id': 2}, {'...\n",
       "Name: production_companies, dtype: object"
      ]
     },
     "metadata": {},
     "output_type": "display_data"
    },
    {
     "data": {
      "text/plain": [
       "count                                          2844\n",
       "unique                                         2383\n",
       "top       [{'name': 'Paramount Pictures', 'id': 4}]\n",
       "freq                                             51\n",
       "Name: production_companies, dtype: object"
      ]
     },
     "metadata": {},
     "output_type": "display_data"
    },
    {
     "name": "stdout",
     "output_type": "stream",
     "text": [
      "============production_countries============\n"
     ]
    },
    {
     "data": {
      "text/plain": [
       "0    [{'iso_3166_1': 'US', 'name': 'United States o...\n",
       "1    [{'iso_3166_1': 'US', 'name': 'United States o...\n",
       "2    [{'iso_3166_1': 'US', 'name': 'United States o...\n",
       "3              [{'iso_3166_1': 'IN', 'name': 'India'}]\n",
       "4        [{'iso_3166_1': 'KR', 'name': 'South Korea'}]\n",
       "Name: production_countries, dtype: object"
      ]
     },
     "metadata": {},
     "output_type": "display_data"
    },
    {
     "data": {
      "text/plain": [
       "count                                                  2945\n",
       "unique                                                  321\n",
       "top       [{'iso_3166_1': 'US', 'name': 'United States o...\n",
       "freq                                                   1752\n",
       "Name: production_countries, dtype: object"
      ]
     },
     "metadata": {},
     "output_type": "display_data"
    },
    {
     "name": "stdout",
     "output_type": "stream",
     "text": [
      "============release_date============\n"
     ]
    },
    {
     "data": {
      "text/plain": [
       "0     2/20/15\n",
       "1      8/6/04\n",
       "2    10/10/14\n",
       "3      3/9/12\n",
       "4      2/5/09\n",
       "Name: release_date, dtype: object"
      ]
     },
     "metadata": {},
     "output_type": "display_data"
    },
    {
     "data": {
      "text/plain": [
       "count        3000\n",
       "unique       2398\n",
       "top       9/10/10\n",
       "freq            5\n",
       "Name: release_date, dtype: object"
      ]
     },
     "metadata": {},
     "output_type": "display_data"
    },
    {
     "name": "stdout",
     "output_type": "stream",
     "text": [
      "============spoken_languages============\n"
     ]
    },
    {
     "data": {
      "text/plain": [
       "0             [{'iso_639_1': 'en', 'name': 'English'}]\n",
       "1             [{'iso_639_1': 'en', 'name': 'English'}]\n",
       "2             [{'iso_639_1': 'en', 'name': 'English'}]\n",
       "3    [{'iso_639_1': 'en', 'name': 'English'}, {'iso...\n",
       "4             [{'iso_639_1': 'ko', 'name': '한국어/조선말'}]\n",
       "Name: spoken_languages, dtype: object"
      ]
     },
     "metadata": {},
     "output_type": "display_data"
    },
    {
     "data": {
      "text/plain": [
       "count                                         2980\n",
       "unique                                         401\n",
       "top       [{'iso_639_1': 'en', 'name': 'English'}]\n",
       "freq                                          1817\n",
       "Name: spoken_languages, dtype: object"
      ]
     },
     "metadata": {},
     "output_type": "display_data"
    },
    {
     "name": "stdout",
     "output_type": "stream",
     "text": [
      "============cast============\n"
     ]
    },
    {
     "data": {
      "text/plain": [
       "0    [{'cast_id': 4, 'character': 'Lou', 'credit_id...\n",
       "1    [{'cast_id': 1, 'character': 'Mia Thermopolis'...\n",
       "2    [{'cast_id': 5, 'character': 'Andrew Neimann',...\n",
       "3    [{'cast_id': 1, 'character': 'Vidya Bagchi', '...\n",
       "4    [{'cast_id': 3, 'character': 'Chun-soo', 'cred...\n",
       "Name: cast, dtype: object"
      ]
     },
     "metadata": {},
     "output_type": "display_data"
    },
    {
     "data": {
      "text/plain": [
       "count     2987\n",
       "unique    2975\n",
       "top         []\n",
       "freq        13\n",
       "Name: cast, dtype: object"
      ]
     },
     "metadata": {},
     "output_type": "display_data"
    },
    {
     "name": "stdout",
     "output_type": "stream",
     "text": [
      "============crew============\n"
     ]
    },
    {
     "data": {
      "text/plain": [
       "0    [{'credit_id': '59ac067c92514107af02c8c8', 'de...\n",
       "1    [{'credit_id': '52fe43fe9251416c7502563d', 'de...\n",
       "2    [{'credit_id': '54d5356ec3a3683ba0000039', 'de...\n",
       "3    [{'credit_id': '52fe48779251416c9108d6eb', 'de...\n",
       "4    [{'credit_id': '52fe464b9251416c75073b43', 'de...\n",
       "Name: crew, dtype: object"
      ]
     },
     "metadata": {},
     "output_type": "display_data"
    },
    {
     "data": {
      "text/plain": [
       "count                                                  2984\n",
       "unique                                                 2984\n",
       "top       [{'credit_id': '52fe4348c3a36847f80487cf', 'de...\n",
       "freq                                                      1\n",
       "Name: crew, dtype: object"
      ]
     },
     "metadata": {},
     "output_type": "display_data"
    }
   ],
   "source": [
    "cols_to_summarize = [\"genres\",  \"original_language\", \"popularity\",\n",
    "                     \"production_companies\", \"production_countries\",\n",
    "                     \"release_date\", \"spoken_languages\", \"cast\", \"crew\"]\n",
    "for col in cols_to_summarize:\n",
    "    print(\"============{}============\".format(col))\n",
    "    display(raw_train[col].dropna().head())\n",
    "    display(raw_train[col].dropna().describe())"
   ]
  },
  {
   "cell_type": "code",
   "execution_count": 11,
   "metadata": {},
   "outputs": [],
   "source": [
    "import ast\n",
    "\n",
    "def GetDictionary(s):\n",
    "    try:\n",
    "        d = ast.literal_eval(s)\n",
    "    except ValueError as err:\n",
    "        if not pandas.isna(s):\n",
    "            print(\"get_dictionary error: {}\".format(err))\n",
    "        d = {}    \n",
    "    return d\n",
    "\n",
    "# ?/?/99 -> 1999\n",
    "# ?/?/10 -> 2010\n",
    "def GetReleaseYear(orig):\n",
    "    if pandas.isna(orig):\n",
    "        return 1900\n",
    "    yr = int(orig.split('/')[2])\n",
    "    if yr <= 19:\n",
    "        return 2000 + yr\n",
    "    else:\n",
    "        return 1900 + yr\n",
    "# xx/?/? -> xx\n",
    "def GetReleaseMonth(orig):\n",
    "    if pandas.isna(orig):\n",
    "        return 0\n",
    "    return int(orig.split('/')[0])\n",
    "\n",
    "def GetCountryCodes(raw):\n",
    "    return [x.get('iso_3166_1', 'NA').lower() for x in GetDictionary(raw)]\n",
    "\n",
    "def GetGenres(raw):\n",
    "    return [x.get('name', 'NA').lower() for x in GetDictionary(raw)]\n",
    "\n",
    "def GetProductionCompanies(raw):\n",
    "    return [x.get('name', 'NA').lower().replace(' ', '_')\n",
    "            for x in GetDictionary(raw)]\n",
    "\n",
    "# Holder for state needed to convert raw data to \n",
    "# sample that can be used for prediction.\n",
    "class TransformerState:\n",
    "    def __init__(self):\n",
    "        pass\n",
    "    \n",
    "def TransformAndFix(train):\n",
    "    t_production_countries = train['production_countries'].apply(GetCountryCodes)\n",
    "    t_genres = train['genres'].apply(GetGenres)    \n",
    "    t_production_companies = train['production_companies'].apply(GetProductionCompanies)\n",
    "    ret = TransformerState()\n",
    "    ret.genres = pandas.Series(t_genres.sum()).value_counts()\n",
    "    ret.countries = pandas.Series(t_production_countries.sum()).value_counts()\n",
    "    ret.production_companies = pandas.Series(t_production_companies.sum()).value_counts()\n",
    "    \n",
    "    ret.genres = ret.genres[ret.genres > 50]\n",
    "    ret.countries = ret.countries[ret.countries > 10]\n",
    "    ret.production_companies = ret.production_companies[ret.production_companies > 10]\n",
    "\n",
    "    for data in [train,]:\n",
    "        data['t_release_yr'] = data['release_date'].apply(GetReleaseYear)\n",
    "        data['t_release_mo'] = data['release_date'].apply(GetReleaseMonth)\n",
    "        for comp in ret.production_companies.keys():\n",
    "            data['t_production_company_{}'.format(comp)] = \\\n",
    "                data['production_companies'].apply(lambda x: comp in GetProductionCompanies(x))\n",
    "\n",
    "        for g in ret.genres.keys():\n",
    "            data['t_genre_{}'.format(g)] = \\\n",
    "                data['genres'].apply(lambda x: g in GetGenres(x))\n",
    "        for c in ret.countries.keys():\n",
    "            data['t_production_country_{}'.format(c)] = \\\n",
    "                data['production_countries'].apply(lambda x: c in GetCountryCodes(x))\n",
    "    return ret"
   ]
  },
  {
   "cell_type": "code",
   "execution_count": 12,
   "metadata": {},
   "outputs": [],
   "source": [
    "train = raw_train.copy()\n",
    "cols_to_transform = ['production_companies', 'production_countries', 'genres',\n",
    "                     'spoken_languages', 'cast', 'crew']\n",
    "for col in cols_to_transform:\n",
    "    train['{}_dict'.format(col)] = train[col].apply(GetDictionary)\n"
   ]
  },
  {
   "cell_type": "code",
   "execution_count": 13,
   "metadata": {},
   "outputs": [
    {
     "name": "stdout",
     "output_type": "stream",
     "text": [
      "{   'cast_id': 4,\n",
      "    'character': 'Lou',\n",
      "    'credit_id': '52fe4ee7c3a36847f82afae7',\n",
      "    'gender': 2,\n",
      "    'id': 52997,\n",
      "    'name': 'Rob Corddry',\n",
      "    'order': 0,\n",
      "    'profile_path': '/k2zJL0V1nEZuFT08xUdOd3ucfXz.jpg'}\n",
      "{   'credit_id': '59ac067c92514107af02c8c8',\n",
      "    'department': 'Directing',\n",
      "    'gender': 0,\n",
      "    'id': 1449071,\n",
      "    'job': 'First Assistant Director',\n",
      "    'name': 'Kelly Cantley',\n",
      "    'profile_path': None}\n"
     ]
    }
   ],
   "source": [
    "# Understand crew and cast\n",
    "import pprint\n",
    "pp = pprint.PrettyPrinter(indent=4)\n",
    "pp.pprint(train['cast_dict'][0][0])\n",
    "pp.pprint(train['crew_dict'][0][0])"
   ]
  },
  {
   "cell_type": "code",
   "execution_count": 15,
   "metadata": {},
   "outputs": [],
   "source": [
    "transform_state = TransformAndFix(train)"
   ]
  },
  {
   "cell_type": "code",
   "execution_count": 16,
   "metadata": {},
   "outputs": [],
   "source": [
    "to_remove = {'id', 'belongs_to_collection', 'genres', 'homepage',\n",
    "             'imdb_id', 'original_language', 'original_title', 'overview',\n",
    "             'production_companies', 'production_countries', 'release_date', \n",
    "             'runtime', 'spoken_languages', 'status', 'tagline', 'title', \n",
    "             'Keywords', 'cast', 'crew', 'poster_path', 'revenue'}\n",
    "useful_columns = [c for c in train.columns if c not in to_remove and c[-5:] != '_dict']"
   ]
  },
  {
   "cell_type": "code",
   "execution_count": 19,
   "metadata": {},
   "outputs": [
    {
     "data": {
      "text/plain": [
       "<matplotlib.axes._subplots.AxesSubplot at 0x7f721f2d0978>"
      ]
     },
     "execution_count": 19,
     "metadata": {},
     "output_type": "execute_result"
    },
    {
     "data": {
      "image/png": "[encoded data removed]",
      "text/plain": [
       "<Figure size 720x720 with 1 Axes>"
      ]
     },
     "metadata": {
      "needs_background": "light"
     },
     "output_type": "display_data"
    }
   ],
   "source": [
    "import matplotlib.pyplot as plt\n",
    "import numpy as np\n",
    "\n",
    "plt.subplots(figsize=(10, 8))\n",
    "corr = train[useful_columns + [\"revenue\"]].corr()\n",
    "corr[\"order\"] = -np.abs(corr[\"revenue\"])\n",
    "corr[[\"revenue\", \"order\"]].dropna().sort_values(by=\"order\").head(40)[\"revenue\"].plot(\n",
    "        kind=\"barh\",\n",
    "        title = \"Correlation with revenue\",\n",
    "        figsize = (10,10))"
   ]
  }
 ],
 "metadata": {
  "kernelspec": {
   "display_name": "Python 3",
   "language": "python",
   "name": "python3"
  },
  "language_info": {
   "codemirror_mode": {
    "name": "ipython",
    "version": 3
   },
   "file_extension": ".py",
   "mimetype": "text/x-python",
   "name": "python",
   "nbconvert_exporter": "python",
   "pygments_lexer": "ipython3",
   "version": "3.6.5"
  }
 },
 "nbformat": 4,
 "nbformat_minor": 2
}
